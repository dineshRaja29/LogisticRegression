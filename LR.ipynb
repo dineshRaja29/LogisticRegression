{
  "nbformat": 4,
  "nbformat_minor": 0,
  "metadata": {
    "colab": {
      "name": "LR.ipynb",
      "provenance": [],
      "collapsed_sections": [],
      "include_colab_link": true
    },
    "kernelspec": {
      "display_name": "Python 3",
      "language": "python",
      "name": "python3"
    },
    "language_info": {
      "codemirror_mode": {
        "name": "ipython",
        "version": 3
      },
      "file_extension": ".py",
      "mimetype": "text/x-python",
      "name": "python",
      "nbconvert_exporter": "python",
      "pygments_lexer": "ipython3",
      "version": "3.6.3"
    }
  },
  "cells": [
    {
      "cell_type": "markdown",
      "metadata": {
        "id": "view-in-github",
        "colab_type": "text"
      },
      "source": [
        "<a href=\"https://colab.research.google.com/github/dineshRaja29/LogisticRegression/blob/main/LR.ipynb\" target=\"_parent\"><img src=\"https://colab.research.google.com/assets/colab-badge.svg\" alt=\"Open In Colab\"/></a>"
      ]
    },
    {
      "cell_type": "markdown",
      "source": [
        "##<font color='green'><b>INTRODUCTION </b></font>"
      ],
      "metadata": {
        "id": "TuBNlchIHd7R"
      }
    },
    {
      "cell_type": "markdown",
      "source": [
        "Applying Logistic Regression on Amazon fine food reviews dataset with various text encoding techinques"
      ],
      "metadata": {
        "id": "bWEixuGsHlvz"
      }
    },
    {
      "cell_type": "markdown",
      "source": [
        "##<font color='green'><b>DATASET DETAILS</b></font>"
      ],
      "metadata": {
        "id": "bFv7c3UAH5CW"
      }
    },
    {
      "cell_type": "markdown",
      "metadata": {
        "id": "AM7jsfwALPlp"
      },
      "source": [
        "Data Source: https://www.kaggle.com/snap/amazon-fine-food-reviews <br>\n",
        "\n",
        "EDA: https://nycdatascience.com/blog/student-works/amazon-fine-foods-visualization/\n",
        "\n",
        "\n",
        "The Amazon Fine Food Reviews dataset consists of reviews of fine foods from Amazon.<br>\n",
        "\n",
        "Number of reviews: 568,454<br>\n",
        "Number of users: 256,059<br>\n",
        "Number of products: 74,258<br>\n",
        "Timespan: Oct 1999 - Oct 2012<br>\n",
        "Number of Attributes/Columns in data: 10 \n",
        "\n",
        "Attribute Information:\n",
        "\n",
        "1. Id\n",
        "2. ProductId - unique identifier for the product\n",
        "3. UserId - unqiue identifier for the user\n",
        "4. ProfileName\n",
        "5. HelpfulnessNumerator - number of users who found the review helpful\n",
        "6. HelpfulnessDenominator - number of users who indicated whether they found the review helpful or not\n",
        "7. Score - rating between 1 and 5\n",
        "8. Time - timestamp for the review\n",
        "9. Summary - brief summary of the review\n",
        "10. Text - text of the review\n",
        "\n",
        "\n",
        "Note: We could use Score/Rating. A rating of 4 or 5 can be considered as a positive review. A rating of 1 or 2 can be considered as negative one. A review of rating 3 is considered neutral and such reviews are ignored from our analysis. This is an approximate and proxy way of determining the polarity (positivity/negativity) of a review.\n",
        "\n",
        "\n"
      ]
    },
    {
      "cell_type": "markdown",
      "metadata": {
        "id": "5VnEBjKRLPlu"
      },
      "source": [
        "\n",
        "The dataset is available in two forms\n",
        "1. .csv file\n",
        "2. SQLite Database\n",
        "\n",
        "In order to load the data, We have used the SQLITE dataset as it is easier to query the data and visualise the data efficiently.\n",
        "\n",
        "Here as we only want to get the global sentiment of the recommendations (positive or negative), we will purposefully ignore all Scores equal to 3. If the score is above 3, then the recommendation wil be set to \"positive\". Otherwise, it will be set to \"negative\"."
      ]
    },
    {
      "cell_type": "code",
      "metadata": {
        "id": "x6YclOzXLPlv"
      },
      "source": [
        "%matplotlib inline\n",
        "import warnings\n",
        "warnings.filterwarnings(\"ignore\")\n",
        "\n",
        "\n",
        "import sqlite3\n",
        "import pandas as pd\n",
        "import numpy as np\n",
        "import nltk\n",
        "import string\n",
        "import matplotlib.pyplot as plt\n",
        "import seaborn as sns\n",
        "from sklearn.feature_extraction.text import TfidfTransformer\n",
        "from sklearn.feature_extraction.text import TfidfVectorizer\n",
        "\n",
        "from sklearn.feature_extraction.text import CountVectorizer\n",
        "from sklearn.metrics import confusion_matrix\n",
        "from sklearn import metrics\n",
        "from sklearn.metrics import roc_curve, auc\n",
        "from nltk.stem.porter import PorterStemmer\n",
        "\n",
        "import re\n",
        "# Tutorial about Python regular expressions: https://pymotw.com/2/re/\n",
        "import string\n",
        "from nltk.corpus import stopwords\n",
        "from nltk.stem import PorterStemmer\n",
        "from nltk.stem.wordnet import WordNetLemmatizer\n",
        "\n",
        "from gensim.models import Word2Vec\n",
        "from gensim.models import KeyedVectors\n",
        "import pickle\n",
        "\n",
        "from tqdm import tqdm\n",
        "import os"
      ],
      "execution_count": null,
      "outputs": []
    },
    {
      "cell_type": "code",
      "metadata": {
        "id": "NZ4OSpSiLPl0",
        "outputId": "d7400cda-1358-4fda-a522-335e9f58b244",
        "colab": {
          "base_uri": "https://localhost:8080/",
          "height": 545
        }
      },
      "source": [
        "# using SQLite Table to read data.\n",
        "from google.colab import drive\n",
        "drive.mount('/content/drive', force_remount=True)\n",
        "from PIL import Image\n",
        "\n",
        "con = sqlite3.connect('/content/drive/My Drive/database.sqlite') \n",
        "\n",
        "# using SQLite Table to read data.\n",
        "\n",
        "# filtering only positive and negative reviews i.e. \n",
        "# not taking into consideration those reviews with Score=3\n",
        "# SELECT * FROM Reviews WHERE Score != 3 LIMIT 500000, will give top 500000 data points\n",
        "# you can change the number to any other number based on your computing power\n",
        "\n",
        "# filtered_data = pd.read_sql_query(\"\"\" SELECT * FROM Reviews WHERE Score != 3 LIMIT 500000\"\"\", con) \n",
        "# for tsne assignment you can take 5k data points\n",
        "\n",
        "filtered_data = pd.read_sql_query(\"\"\" SELECT * FROM Reviews WHERE Score != 3 LIMIT 100000\"\"\", con) \n",
        "\n",
        "# Give reviews with Score>3 a positive rating(1), and reviews with a score<3 a negative rating(0).\n",
        "def partition(x):\n",
        "    if x < 3:\n",
        "        return 0\n",
        "    return 1\n",
        "\n",
        "#changing reviews with score less than 3 to be positive and vice-versa\n",
        "actualScore = filtered_data['Score']\n",
        "positiveNegative = actualScore.map(partition) \n",
        "filtered_data['Score'] = positiveNegative\n",
        "print(\"Number of data points in our data\", filtered_data.shape)\n",
        "filtered_data.head(3)"
      ],
      "execution_count": null,
      "outputs": [
        {
          "output_type": "stream",
          "text": [
            "Go to this URL in a browser: https://accounts.google.com/o/oauth2/auth?client_id=947318989803-6bn6qk8qdgf4n4g3pfee6491hc0brc4i.apps.googleusercontent.com&redirect_uri=urn%3Aietf%3Awg%3Aoauth%3A2.0%3Aoob&scope=email%20https%3A%2F%2Fwww.googleapis.com%2Fauth%2Fdocs.test%20https%3A%2F%2Fwww.googleapis.com%2Fauth%2Fdrive%20https%3A%2F%2Fwww.googleapis.com%2Fauth%2Fdrive.photos.readonly%20https%3A%2F%2Fwww.googleapis.com%2Fauth%2Fpeopleapi.readonly&response_type=code\n",
            "\n",
            "Enter your authorization code:\n",
            "··········\n",
            "Mounted at /content/drive\n",
            "Number of data points in our data (100000, 10)\n"
          ],
          "name": "stdout"
        },
        {
          "output_type": "execute_result",
          "data": {
            "text/html": [
              "<div>\n",
              "<style scoped>\n",
              "    .dataframe tbody tr th:only-of-type {\n",
              "        vertical-align: middle;\n",
              "    }\n",
              "\n",
              "    .dataframe tbody tr th {\n",
              "        vertical-align: top;\n",
              "    }\n",
              "\n",
              "    .dataframe thead th {\n",
              "        text-align: right;\n",
              "    }\n",
              "</style>\n",
              "<table border=\"1\" class=\"dataframe\">\n",
              "  <thead>\n",
              "    <tr style=\"text-align: right;\">\n",
              "      <th></th>\n",
              "      <th>Id</th>\n",
              "      <th>ProductId</th>\n",
              "      <th>UserId</th>\n",
              "      <th>ProfileName</th>\n",
              "      <th>HelpfulnessNumerator</th>\n",
              "      <th>HelpfulnessDenominator</th>\n",
              "      <th>Score</th>\n",
              "      <th>Time</th>\n",
              "      <th>Summary</th>\n",
              "      <th>Text</th>\n",
              "    </tr>\n",
              "  </thead>\n",
              "  <tbody>\n",
              "    <tr>\n",
              "      <th>0</th>\n",
              "      <td>1</td>\n",
              "      <td>B001E4KFG0</td>\n",
              "      <td>A3SGXH7AUHU8GW</td>\n",
              "      <td>delmartian</td>\n",
              "      <td>1</td>\n",
              "      <td>1</td>\n",
              "      <td>1</td>\n",
              "      <td>1303862400</td>\n",
              "      <td>Good Quality Dog Food</td>\n",
              "      <td>I have bought several of the Vitality canned d...</td>\n",
              "    </tr>\n",
              "    <tr>\n",
              "      <th>1</th>\n",
              "      <td>2</td>\n",
              "      <td>B00813GRG4</td>\n",
              "      <td>A1D87F6ZCVE5NK</td>\n",
              "      <td>dll pa</td>\n",
              "      <td>0</td>\n",
              "      <td>0</td>\n",
              "      <td>0</td>\n",
              "      <td>1346976000</td>\n",
              "      <td>Not as Advertised</td>\n",
              "      <td>Product arrived labeled as Jumbo Salted Peanut...</td>\n",
              "    </tr>\n",
              "    <tr>\n",
              "      <th>2</th>\n",
              "      <td>3</td>\n",
              "      <td>B000LQOCH0</td>\n",
              "      <td>ABXLMWJIXXAIN</td>\n",
              "      <td>Natalia Corres \"Natalia Corres\"</td>\n",
              "      <td>1</td>\n",
              "      <td>1</td>\n",
              "      <td>1</td>\n",
              "      <td>1219017600</td>\n",
              "      <td>\"Delight\" says it all</td>\n",
              "      <td>This is a confection that has been around a fe...</td>\n",
              "    </tr>\n",
              "  </tbody>\n",
              "</table>\n",
              "</div>"
            ],
            "text/plain": [
              "   Id  ...                                               Text\n",
              "0   1  ...  I have bought several of the Vitality canned d...\n",
              "1   2  ...  Product arrived labeled as Jumbo Salted Peanut...\n",
              "2   3  ...  This is a confection that has been around a fe...\n",
              "\n",
              "[3 rows x 10 columns]"
            ]
          },
          "metadata": {
            "tags": []
          },
          "execution_count": 2
        }
      ]
    },
    {
      "cell_type": "code",
      "metadata": {
        "id": "r44Y4VDjLPl7"
      },
      "source": [
        "display = pd.read_sql_query(\"\"\"\n",
        "SELECT UserId, ProductId, ProfileName, Time, Score, Text, COUNT(*)\n",
        "FROM Reviews\n",
        "GROUP BY UserId\n",
        "HAVING COUNT(*)>1\n",
        "\"\"\", con)"
      ],
      "execution_count": null,
      "outputs": []
    },
    {
      "cell_type": "code",
      "metadata": {
        "id": "tTwINQv1LPl_",
        "outputId": "70315d01-7c09-41af-8c50-75a5aa2dc3f7",
        "scrolled": true,
        "colab": {
          "base_uri": "https://localhost:8080/",
          "height": 380
        }
      },
      "source": [
        "print(display.shape)\n",
        "display.head()"
      ],
      "execution_count": null,
      "outputs": [
        {
          "output_type": "stream",
          "text": [
            "(80668, 7)\n"
          ],
          "name": "stdout"
        },
        {
          "output_type": "execute_result",
          "data": {
            "text/html": [
              "<div>\n",
              "<style scoped>\n",
              "    .dataframe tbody tr th:only-of-type {\n",
              "        vertical-align: middle;\n",
              "    }\n",
              "\n",
              "    .dataframe tbody tr th {\n",
              "        vertical-align: top;\n",
              "    }\n",
              "\n",
              "    .dataframe thead th {\n",
              "        text-align: right;\n",
              "    }\n",
              "</style>\n",
              "<table border=\"1\" class=\"dataframe\">\n",
              "  <thead>\n",
              "    <tr style=\"text-align: right;\">\n",
              "      <th></th>\n",
              "      <th>UserId</th>\n",
              "      <th>ProductId</th>\n",
              "      <th>ProfileName</th>\n",
              "      <th>Time</th>\n",
              "      <th>Score</th>\n",
              "      <th>Text</th>\n",
              "      <th>COUNT(*)</th>\n",
              "    </tr>\n",
              "  </thead>\n",
              "  <tbody>\n",
              "    <tr>\n",
              "      <th>0</th>\n",
              "      <td>#oc-R115TNMSPFT9I7</td>\n",
              "      <td>B007Y59HVM</td>\n",
              "      <td>Breyton</td>\n",
              "      <td>1331510400</td>\n",
              "      <td>2</td>\n",
              "      <td>Overall its just OK when considering the price...</td>\n",
              "      <td>2</td>\n",
              "    </tr>\n",
              "    <tr>\n",
              "      <th>1</th>\n",
              "      <td>#oc-R11D9D7SHXIJB9</td>\n",
              "      <td>B005HG9ET0</td>\n",
              "      <td>Louis E. Emory \"hoppy\"</td>\n",
              "      <td>1342396800</td>\n",
              "      <td>5</td>\n",
              "      <td>My wife has recurring extreme muscle spasms, u...</td>\n",
              "      <td>3</td>\n",
              "    </tr>\n",
              "    <tr>\n",
              "      <th>2</th>\n",
              "      <td>#oc-R11DNU2NBKQ23Z</td>\n",
              "      <td>B007Y59HVM</td>\n",
              "      <td>Kim Cieszykowski</td>\n",
              "      <td>1348531200</td>\n",
              "      <td>1</td>\n",
              "      <td>This coffee is horrible and unfortunately not ...</td>\n",
              "      <td>2</td>\n",
              "    </tr>\n",
              "    <tr>\n",
              "      <th>3</th>\n",
              "      <td>#oc-R11O5J5ZVQE25C</td>\n",
              "      <td>B005HG9ET0</td>\n",
              "      <td>Penguin Chick</td>\n",
              "      <td>1346889600</td>\n",
              "      <td>5</td>\n",
              "      <td>This will be the bottle that you grab from the...</td>\n",
              "      <td>3</td>\n",
              "    </tr>\n",
              "    <tr>\n",
              "      <th>4</th>\n",
              "      <td>#oc-R12KPBODL2B5ZD</td>\n",
              "      <td>B007OSBE1U</td>\n",
              "      <td>Christopher P. Presta</td>\n",
              "      <td>1348617600</td>\n",
              "      <td>1</td>\n",
              "      <td>I didnt like this coffee. Instead of telling y...</td>\n",
              "      <td>2</td>\n",
              "    </tr>\n",
              "  </tbody>\n",
              "</table>\n",
              "</div>"
            ],
            "text/plain": [
              "               UserId  ... COUNT(*)\n",
              "0  #oc-R115TNMSPFT9I7  ...        2\n",
              "1  #oc-R11D9D7SHXIJB9  ...        3\n",
              "2  #oc-R11DNU2NBKQ23Z  ...        2\n",
              "3  #oc-R11O5J5ZVQE25C  ...        3\n",
              "4  #oc-R12KPBODL2B5ZD  ...        2\n",
              "\n",
              "[5 rows x 7 columns]"
            ]
          },
          "metadata": {
            "tags": []
          },
          "execution_count": 4
        }
      ]
    },
    {
      "cell_type": "code",
      "metadata": {
        "id": "EOslHQgnLPmF",
        "outputId": "78ffbd20-91bf-46c7-d234-65e410de606c",
        "colab": {
          "base_uri": "https://localhost:8080/",
          "height": 133
        }
      },
      "source": [
        "display[display['UserId']=='AZY10LLTJ71NX']"
      ],
      "execution_count": null,
      "outputs": [
        {
          "output_type": "execute_result",
          "data": {
            "text/html": [
              "<div>\n",
              "<style scoped>\n",
              "    .dataframe tbody tr th:only-of-type {\n",
              "        vertical-align: middle;\n",
              "    }\n",
              "\n",
              "    .dataframe tbody tr th {\n",
              "        vertical-align: top;\n",
              "    }\n",
              "\n",
              "    .dataframe thead th {\n",
              "        text-align: right;\n",
              "    }\n",
              "</style>\n",
              "<table border=\"1\" class=\"dataframe\">\n",
              "  <thead>\n",
              "    <tr style=\"text-align: right;\">\n",
              "      <th></th>\n",
              "      <th>UserId</th>\n",
              "      <th>ProductId</th>\n",
              "      <th>ProfileName</th>\n",
              "      <th>Time</th>\n",
              "      <th>Score</th>\n",
              "      <th>Text</th>\n",
              "      <th>COUNT(*)</th>\n",
              "    </tr>\n",
              "  </thead>\n",
              "  <tbody>\n",
              "    <tr>\n",
              "      <th>80638</th>\n",
              "      <td>AZY10LLTJ71NX</td>\n",
              "      <td>B006P7E5ZI</td>\n",
              "      <td>undertheshrine \"undertheshrine\"</td>\n",
              "      <td>1334707200</td>\n",
              "      <td>5</td>\n",
              "      <td>I was recommended to try green tea extract to ...</td>\n",
              "      <td>5</td>\n",
              "    </tr>\n",
              "  </tbody>\n",
              "</table>\n",
              "</div>"
            ],
            "text/plain": [
              "              UserId  ... COUNT(*)\n",
              "80638  AZY10LLTJ71NX  ...        5\n",
              "\n",
              "[1 rows x 7 columns]"
            ]
          },
          "metadata": {
            "tags": []
          },
          "execution_count": 5
        }
      ]
    },
    {
      "cell_type": "code",
      "metadata": {
        "id": "pSwF4sdoLPmM",
        "outputId": "34c82fd6-3f19-426b-9ecc-7bda9526328b",
        "colab": {
          "base_uri": "https://localhost:8080/",
          "height": 34
        }
      },
      "source": [
        "display['COUNT(*)'].sum()"
      ],
      "execution_count": null,
      "outputs": [
        {
          "output_type": "execute_result",
          "data": {
            "text/plain": [
              "393063"
            ]
          },
          "metadata": {
            "tags": []
          },
          "execution_count": 6
        }
      ]
    },
    {
      "cell_type": "markdown",
      "metadata": {
        "id": "oCJaTWrTLPmS"
      },
      "source": [
        "##<font color='green'><b>Data Cleaning</b></font>\n",
        "\n",
        "It is observed (as shown in the table below) that the reviews data had many duplicate entries. Hence it was necessary to remove duplicates in order to get unbiased results for the analysis of the data.  Following is an example:"
      ]
    },
    {
      "cell_type": "code",
      "metadata": {
        "id": "3lvzRwWVLPmT",
        "outputId": "bb237134-e1da-4a18-850a-4d467f5e441b",
        "scrolled": false,
        "colab": {
          "base_uri": "https://localhost:8080/",
          "height": 573
        }
      },
      "source": [
        "display= pd.read_sql_query(\"\"\"\n",
        "SELECT *\n",
        "FROM Reviews\n",
        "WHERE Score != 3 AND UserId=\"AR5J8UI46CURR\"\n",
        "ORDER BY ProductID\n",
        "\"\"\", con)\n",
        "display.head()"
      ],
      "execution_count": null,
      "outputs": [
        {
          "output_type": "execute_result",
          "data": {
            "text/html": [
              "<div>\n",
              "<style scoped>\n",
              "    .dataframe tbody tr th:only-of-type {\n",
              "        vertical-align: middle;\n",
              "    }\n",
              "\n",
              "    .dataframe tbody tr th {\n",
              "        vertical-align: top;\n",
              "    }\n",
              "\n",
              "    .dataframe thead th {\n",
              "        text-align: right;\n",
              "    }\n",
              "</style>\n",
              "<table border=\"1\" class=\"dataframe\">\n",
              "  <thead>\n",
              "    <tr style=\"text-align: right;\">\n",
              "      <th></th>\n",
              "      <th>Id</th>\n",
              "      <th>ProductId</th>\n",
              "      <th>UserId</th>\n",
              "      <th>ProfileName</th>\n",
              "      <th>HelpfulnessNumerator</th>\n",
              "      <th>HelpfulnessDenominator</th>\n",
              "      <th>Score</th>\n",
              "      <th>Time</th>\n",
              "      <th>Summary</th>\n",
              "      <th>Text</th>\n",
              "    </tr>\n",
              "  </thead>\n",
              "  <tbody>\n",
              "    <tr>\n",
              "      <th>0</th>\n",
              "      <td>78445</td>\n",
              "      <td>B000HDL1RQ</td>\n",
              "      <td>AR5J8UI46CURR</td>\n",
              "      <td>Geetha Krishnan</td>\n",
              "      <td>2</td>\n",
              "      <td>2</td>\n",
              "      <td>5</td>\n",
              "      <td>1199577600</td>\n",
              "      <td>LOACKER QUADRATINI VANILLA WAFERS</td>\n",
              "      <td>DELICIOUS WAFERS. I FIND THAT EUROPEAN WAFERS ...</td>\n",
              "    </tr>\n",
              "    <tr>\n",
              "      <th>1</th>\n",
              "      <td>138317</td>\n",
              "      <td>B000HDOPYC</td>\n",
              "      <td>AR5J8UI46CURR</td>\n",
              "      <td>Geetha Krishnan</td>\n",
              "      <td>2</td>\n",
              "      <td>2</td>\n",
              "      <td>5</td>\n",
              "      <td>1199577600</td>\n",
              "      <td>LOACKER QUADRATINI VANILLA WAFERS</td>\n",
              "      <td>DELICIOUS WAFERS. I FIND THAT EUROPEAN WAFERS ...</td>\n",
              "    </tr>\n",
              "    <tr>\n",
              "      <th>2</th>\n",
              "      <td>138277</td>\n",
              "      <td>B000HDOPYM</td>\n",
              "      <td>AR5J8UI46CURR</td>\n",
              "      <td>Geetha Krishnan</td>\n",
              "      <td>2</td>\n",
              "      <td>2</td>\n",
              "      <td>5</td>\n",
              "      <td>1199577600</td>\n",
              "      <td>LOACKER QUADRATINI VANILLA WAFERS</td>\n",
              "      <td>DELICIOUS WAFERS. I FIND THAT EUROPEAN WAFERS ...</td>\n",
              "    </tr>\n",
              "    <tr>\n",
              "      <th>3</th>\n",
              "      <td>73791</td>\n",
              "      <td>B000HDOPZG</td>\n",
              "      <td>AR5J8UI46CURR</td>\n",
              "      <td>Geetha Krishnan</td>\n",
              "      <td>2</td>\n",
              "      <td>2</td>\n",
              "      <td>5</td>\n",
              "      <td>1199577600</td>\n",
              "      <td>LOACKER QUADRATINI VANILLA WAFERS</td>\n",
              "      <td>DELICIOUS WAFERS. I FIND THAT EUROPEAN WAFERS ...</td>\n",
              "    </tr>\n",
              "    <tr>\n",
              "      <th>4</th>\n",
              "      <td>155049</td>\n",
              "      <td>B000PAQ75C</td>\n",
              "      <td>AR5J8UI46CURR</td>\n",
              "      <td>Geetha Krishnan</td>\n",
              "      <td>2</td>\n",
              "      <td>2</td>\n",
              "      <td>5</td>\n",
              "      <td>1199577600</td>\n",
              "      <td>LOACKER QUADRATINI VANILLA WAFERS</td>\n",
              "      <td>DELICIOUS WAFERS. I FIND THAT EUROPEAN WAFERS ...</td>\n",
              "    </tr>\n",
              "  </tbody>\n",
              "</table>\n",
              "</div>"
            ],
            "text/plain": [
              "       Id  ...                                               Text\n",
              "0   78445  ...  DELICIOUS WAFERS. I FIND THAT EUROPEAN WAFERS ...\n",
              "1  138317  ...  DELICIOUS WAFERS. I FIND THAT EUROPEAN WAFERS ...\n",
              "2  138277  ...  DELICIOUS WAFERS. I FIND THAT EUROPEAN WAFERS ...\n",
              "3   73791  ...  DELICIOUS WAFERS. I FIND THAT EUROPEAN WAFERS ...\n",
              "4  155049  ...  DELICIOUS WAFERS. I FIND THAT EUROPEAN WAFERS ...\n",
              "\n",
              "[5 rows x 10 columns]"
            ]
          },
          "metadata": {
            "tags": []
          },
          "execution_count": 7
        }
      ]
    },
    {
      "cell_type": "markdown",
      "metadata": {
        "id": "uT7p9_deLPmb"
      },
      "source": [
        "As it can be seen above that same user has multiple reviews with same values for HelpfulnessNumerator, HelpfulnessDenominator, Score, Time, Summary and Text and on doing analysis it was found that <br>\n",
        "<br> \n",
        "ProductId=B000HDOPZG was Loacker Quadratini Vanilla Wafer Cookies, 8.82-Ounce Packages (Pack of 8)<br>\n",
        "<br> \n",
        "ProductId=B000HDL1RQ was Loacker Quadratini Lemon Wafer Cookies, 8.82-Ounce Packages (Pack of 8) and so on<br>\n",
        "\n",
        "It was inferred after analysis that reviews with same parameters other than ProductId belonged to the same product just having different flavour or quantity. Hence in order to reduce redundancy it was decided to eliminate the rows having same parameters.<br>\n",
        "\n",
        "The method used for the same was that we first sort the data according to ProductId and then just keep the first similar product review and delelte the others. for eg. in the above just the review for ProductId=B000HDL1RQ remains. This method ensures that there is only one representative for each product and deduplication without sorting would lead to possibility of different representatives still existing for the same product."
      ]
    },
    {
      "cell_type": "code",
      "metadata": {
        "id": "mdsKFc50LPme"
      },
      "source": [
        "#Sorting data according to ProductId in ascending order\n",
        "sorted_data=filtered_data.sort_values('ProductId', axis=0, ascending=True, inplace=False, kind='quicksort', na_position='last')"
      ],
      "execution_count": null,
      "outputs": []
    },
    {
      "cell_type": "code",
      "metadata": {
        "id": "2itLgX-NLPmk",
        "outputId": "f82202fe-1939-421a-db15-042a13ede972",
        "colab": {
          "base_uri": "https://localhost:8080/",
          "height": 34
        }
      },
      "source": [
        "#Deduplication of entries\n",
        "final=sorted_data.drop_duplicates(subset={\"UserId\",\"ProfileName\",\"Time\",\"Text\"}, keep='first', inplace=False)\n",
        "final.shape"
      ],
      "execution_count": null,
      "outputs": [
        {
          "output_type": "execute_result",
          "data": {
            "text/plain": [
              "(87775, 10)"
            ]
          },
          "metadata": {
            "tags": []
          },
          "execution_count": 9
        }
      ]
    },
    {
      "cell_type": "code",
      "metadata": {
        "id": "IBU4iZk4LPmt",
        "outputId": "1be66109-45a5-42dd-abc1-05343330079c",
        "colab": {
          "base_uri": "https://localhost:8080/",
          "height": 34
        }
      },
      "source": [
        "#Checking to see how much % of data still remains\n",
        "(final['Id'].size*1.0)/(filtered_data['Id'].size*1.0)*100"
      ],
      "execution_count": null,
      "outputs": [
        {
          "output_type": "execute_result",
          "data": {
            "text/plain": [
              "87.775"
            ]
          },
          "metadata": {
            "tags": []
          },
          "execution_count": 10
        }
      ]
    },
    {
      "cell_type": "markdown",
      "metadata": {
        "id": "gFBOfSe4LPmy"
      },
      "source": [
        "<b>Observation:-</b> It was also seen that in two rows given below the value of HelpfulnessNumerator is greater than HelpfulnessDenominator which is not practically possible hence these two rows too are removed from calcualtions"
      ]
    },
    {
      "cell_type": "code",
      "metadata": {
        "id": "50flE40lLPmz",
        "outputId": "ba53d684-c85a-4721-8d31-35697c08f7c3",
        "colab": {
          "base_uri": "https://localhost:8080/",
          "height": 340
        }
      },
      "source": [
        "display= pd.read_sql_query(\"\"\"\n",
        "SELECT *\n",
        "FROM Reviews\n",
        "WHERE Score != 3 AND Id=44737 OR Id=64422\n",
        "ORDER BY ProductID\n",
        "\"\"\", con)\n",
        "\n",
        "display.head()"
      ],
      "execution_count": null,
      "outputs": [
        {
          "output_type": "execute_result",
          "data": {
            "text/html": [
              "<div>\n",
              "<style scoped>\n",
              "    .dataframe tbody tr th:only-of-type {\n",
              "        vertical-align: middle;\n",
              "    }\n",
              "\n",
              "    .dataframe tbody tr th {\n",
              "        vertical-align: top;\n",
              "    }\n",
              "\n",
              "    .dataframe thead th {\n",
              "        text-align: right;\n",
              "    }\n",
              "</style>\n",
              "<table border=\"1\" class=\"dataframe\">\n",
              "  <thead>\n",
              "    <tr style=\"text-align: right;\">\n",
              "      <th></th>\n",
              "      <th>Id</th>\n",
              "      <th>ProductId</th>\n",
              "      <th>UserId</th>\n",
              "      <th>ProfileName</th>\n",
              "      <th>HelpfulnessNumerator</th>\n",
              "      <th>HelpfulnessDenominator</th>\n",
              "      <th>Score</th>\n",
              "      <th>Time</th>\n",
              "      <th>Summary</th>\n",
              "      <th>Text</th>\n",
              "    </tr>\n",
              "  </thead>\n",
              "  <tbody>\n",
              "    <tr>\n",
              "      <th>0</th>\n",
              "      <td>64422</td>\n",
              "      <td>B000MIDROQ</td>\n",
              "      <td>A161DK06JJMCYF</td>\n",
              "      <td>J. E. Stephens \"Jeanne\"</td>\n",
              "      <td>3</td>\n",
              "      <td>1</td>\n",
              "      <td>5</td>\n",
              "      <td>1224892800</td>\n",
              "      <td>Bought This for My Son at College</td>\n",
              "      <td>My son loves spaghetti so I didn't hesitate or...</td>\n",
              "    </tr>\n",
              "    <tr>\n",
              "      <th>1</th>\n",
              "      <td>44737</td>\n",
              "      <td>B001EQ55RW</td>\n",
              "      <td>A2V0I904FH7ABY</td>\n",
              "      <td>Ram</td>\n",
              "      <td>3</td>\n",
              "      <td>2</td>\n",
              "      <td>4</td>\n",
              "      <td>1212883200</td>\n",
              "      <td>Pure cocoa taste with crunchy almonds inside</td>\n",
              "      <td>It was almost a 'love at first bite' - the per...</td>\n",
              "    </tr>\n",
              "  </tbody>\n",
              "</table>\n",
              "</div>"
            ],
            "text/plain": [
              "      Id  ...                                               Text\n",
              "0  64422  ...  My son loves spaghetti so I didn't hesitate or...\n",
              "1  44737  ...  It was almost a 'love at first bite' - the per...\n",
              "\n",
              "[2 rows x 10 columns]"
            ]
          },
          "metadata": {
            "tags": []
          },
          "execution_count": 11
        }
      ]
    },
    {
      "cell_type": "code",
      "metadata": {
        "id": "0YTPJMLTLPm7"
      },
      "source": [
        "final=final[final.HelpfulnessNumerator<=final.HelpfulnessDenominator]"
      ],
      "execution_count": null,
      "outputs": []
    },
    {
      "cell_type": "code",
      "metadata": {
        "id": "LVJ_l-x2LPnC",
        "outputId": "a7bd418d-78c5-4c1e-b0a6-f530ffb2c9ed",
        "colab": {
          "base_uri": "https://localhost:8080/",
          "height": 86
        }
      },
      "source": [
        "#Before starting the next phase of preprocessing lets see the number of entries left\n",
        "print(final.shape)\n",
        "\n",
        "#How many positive and negative reviews are present in our dataset?\n",
        "final['Score'].value_counts()"
      ],
      "execution_count": null,
      "outputs": [
        {
          "output_type": "stream",
          "text": [
            "(87773, 10)\n"
          ],
          "name": "stdout"
        },
        {
          "output_type": "execute_result",
          "data": {
            "text/plain": [
              "1    73592\n",
              "0    14181\n",
              "Name: Score, dtype: int64"
            ]
          },
          "metadata": {
            "tags": []
          },
          "execution_count": 13
        }
      ]
    },
    {
      "cell_type": "markdown",
      "metadata": {
        "id": "GrTYWzYrLPnH"
      },
      "source": [
        "##<font color='green'><b>Preprocessing"
      ]
    },
    {
      "cell_type": "markdown",
      "metadata": {
        "id": "zbvLitZeLPnI"
      },
      "source": [
        "\n",
        "\n",
        "Now that we have finished deduplication our data requires some preprocessing before we go on further with analysis and making the prediction model.\n",
        "\n",
        "Hence in the Preprocessing phase we do the following in the order below:-\n",
        "\n",
        "1. Begin by removing the html tags\n",
        "2. Remove any punctuations or limited set of special characters like , or . or # etc.\n",
        "3. Check if the word is made up of english letters and is not alpha-numeric\n",
        "4. Check to see if the length of the word is greater than 2 (as it was researched that there is no adjective in 2-letters)\n",
        "5. Convert the word to lowercase\n",
        "6. Remove Stopwords\n",
        "7. Finally Snowball Stemming the word (it was obsereved to be better than Porter Stemming)<br>\n",
        "\n",
        "After which we collect the words used to describe positive and negative reviews"
      ]
    },
    {
      "cell_type": "code",
      "metadata": {
        "id": "yYDc0ZXALPnK",
        "outputId": "8b4cb54d-4f71-42d6-af89-9ab504c0c254",
        "colab": {
          "base_uri": "https://localhost:8080/",
          "height": 176
        }
      },
      "source": [
        "# printing some random reviews\n",
        "sent_0 = final['Text'].values[0]\n",
        "print(sent_0)\n",
        "print(\"=\"*50)\n",
        "\n",
        "sent_1000 = final['Text'].values[1000]\n",
        "print(sent_1000)\n",
        "print(\"=\"*50)\n",
        "\n",
        "sent_1500 = final['Text'].values[1500]\n",
        "print(sent_1500)\n",
        "print(\"=\"*50)\n",
        "\n",
        "sent_4900 = final['Text'].values[4900]\n",
        "print(sent_4900)\n",
        "print(\"=\"*50)"
      ],
      "execution_count": null,
      "outputs": [
        {
          "output_type": "stream",
          "text": [
            "My dogs loves this chicken but its a product from China, so we wont be buying it anymore.  Its very hard to find any chicken products made in the USA but they are out there, but this one isnt.  Its too bad too because its a good product but I wont take any chances till they know what is going on with the china imports.\n",
            "==================================================\n",
            "The Candy Blocks were a nice visual for the Lego Birthday party but the candy has little taste to it.  Very little of the 2 lbs that I bought were eaten and I threw the rest away.  I would not buy the candy again.\n",
            "==================================================\n",
            "was way to hot for my blood, took a bite and did a jig  lol\n",
            "==================================================\n",
            "My dog LOVES these treats. They tend to have a very strong fish oil smell. So if you are afraid of the fishy smell, don't get it. But I think my dog likes it because of the smell. These treats are really small in size. They are great for training. You can give your dog several of these without worrying about him over eating. Amazon's price was much more reasonable than any other retailer. You can buy a 1 pound bag on Amazon for almost the same price as a 6 ounce bag at other retailers. It's definitely worth it to buy a big bag if your dog eats them a lot.\n",
            "==================================================\n"
          ],
          "name": "stdout"
        }
      ]
    },
    {
      "cell_type": "code",
      "metadata": {
        "id": "AxYh-wPiLPnS",
        "outputId": "0abd6f03-94c5-4cba-e3ea-085e51a6e299",
        "colab": {
          "base_uri": "https://localhost:8080/",
          "height": 54
        }
      },
      "source": [
        "# remove urls from text python: https://stackoverflow.com/a/40823105/4084039\n",
        "sent_0 = re.sub(r\"http\\S+\", \"\", sent_0)\n",
        "sent_1000 = re.sub(r\"http\\S+\", \"\", sent_1000)\n",
        "sent_150 = re.sub(r\"http\\S+\", \"\", sent_1500)\n",
        "sent_4900 = re.sub(r\"http\\S+\", \"\", sent_4900)\n",
        "\n",
        "print(sent_0)"
      ],
      "execution_count": null,
      "outputs": [
        {
          "output_type": "stream",
          "text": [
            "My dogs loves this chicken but its a product from China, so we wont be buying it anymore.  Its very hard to find any chicken products made in the USA but they are out there, but this one isnt.  Its too bad too because its a good product but I wont take any chances till they know what is going on with the china imports.\n"
          ],
          "name": "stdout"
        }
      ]
    },
    {
      "cell_type": "code",
      "metadata": {
        "id": "JMSSWjZqLPne",
        "outputId": "8b764436-7c5f-4dcc-bc01-06e82939304c",
        "colab": {
          "base_uri": "https://localhost:8080/",
          "height": 159
        }
      },
      "source": [
        "# https://stackoverflow.com/questions/16206380/python-beautifulsoup-how-to-remove-all-tags-from-an-element\n",
        "from bs4 import BeautifulSoup\n",
        "\n",
        "soup = BeautifulSoup(sent_0, 'lxml')\n",
        "text = soup.get_text()\n",
        "print(text)\n",
        "print(\"=\"*50)\n",
        "\n",
        "soup = BeautifulSoup(sent_1000, 'lxml')\n",
        "text = soup.get_text()\n",
        "print(text)\n",
        "print(\"=\"*50)\n",
        "\n",
        "soup = BeautifulSoup(sent_1500, 'lxml')\n",
        "text = soup.get_text()\n",
        "print(text)\n",
        "print(\"=\"*50)\n",
        "\n",
        "soup = BeautifulSoup(sent_4900, 'lxml')\n",
        "text = soup.get_text()\n",
        "print(text)"
      ],
      "execution_count": null,
      "outputs": [
        {
          "output_type": "stream",
          "text": [
            "My dogs loves this chicken but its a product from China, so we wont be buying it anymore.  Its very hard to find any chicken products made in the USA but they are out there, but this one isnt.  Its too bad too because its a good product but I wont take any chances till they know what is going on with the china imports.\n",
            "==================================================\n",
            "The Candy Blocks were a nice visual for the Lego Birthday party but the candy has little taste to it.  Very little of the 2 lbs that I bought were eaten and I threw the rest away.  I would not buy the candy again.\n",
            "==================================================\n",
            "was way to hot for my blood, took a bite and did a jig  lol\n",
            "==================================================\n",
            "My dog LOVES these treats. They tend to have a very strong fish oil smell. So if you are afraid of the fishy smell, don't get it. But I think my dog likes it because of the smell. These treats are really small in size. They are great for training. You can give your dog several of these without worrying about him over eating. Amazon's price was much more reasonable than any other retailer. You can buy a 1 pound bag on Amazon for almost the same price as a 6 ounce bag at other retailers. It's definitely worth it to buy a big bag if your dog eats them a lot.\n"
          ],
          "name": "stdout"
        }
      ]
    },
    {
      "cell_type": "code",
      "metadata": {
        "id": "BEtpMkhULPnt"
      },
      "source": [
        "# https://stackoverflow.com/a/47091490/4084039\n",
        "import re\n",
        "\n",
        "def decontracted(phrase):\n",
        "    # specific\n",
        "    phrase = re.sub(r\"won't\", \"will not\", phrase)\n",
        "    phrase = re.sub(r\"can\\'t\", \"can not\", phrase)\n",
        "\n",
        "    # general\n",
        "    phrase = re.sub(r\"n\\'t\", \" not\", phrase)\n",
        "    phrase = re.sub(r\"\\'re\", \" are\", phrase)\n",
        "    phrase = re.sub(r\"\\'s\", \" is\", phrase)\n",
        "    phrase = re.sub(r\"\\'d\", \" would\", phrase)\n",
        "    phrase = re.sub(r\"\\'ll\", \" will\", phrase)\n",
        "    phrase = re.sub(r\"\\'t\", \" not\", phrase)\n",
        "    phrase = re.sub(r\"\\'ve\", \" have\", phrase)\n",
        "    phrase = re.sub(r\"\\'m\", \" am\", phrase)\n",
        "    return phrase"
      ],
      "execution_count": null,
      "outputs": []
    },
    {
      "cell_type": "code",
      "metadata": {
        "id": "GavAnzNjLPnx",
        "outputId": "bf16adcf-b5ab-45e6-c0e5-ec042ed4dabf",
        "colab": {
          "base_uri": "https://localhost:8080/",
          "height": 52
        }
      },
      "source": [
        "sent_1500 = decontracted(sent_1500)\n",
        "print(sent_1500)\n",
        "print(\"=\"*50)"
      ],
      "execution_count": null,
      "outputs": [
        {
          "output_type": "stream",
          "text": [
            "was way to hot for my blood, took a bite and did a jig  lol\n",
            "==================================================\n"
          ],
          "name": "stdout"
        }
      ]
    },
    {
      "cell_type": "code",
      "metadata": {
        "id": "Kl8nOoL-LPn3",
        "outputId": "02c4f7a2-48d2-42e9-dbd4-798b9f299841",
        "colab": {
          "base_uri": "https://localhost:8080/",
          "height": 54
        }
      },
      "source": [
        "#remove words with numbers python: https://stackoverflow.com/a/18082370/4084039\n",
        "sent_0 = re.sub(\"\\S*\\d\\S*\", \"\", sent_0).strip()\n",
        "print(sent_0)"
      ],
      "execution_count": null,
      "outputs": [
        {
          "output_type": "stream",
          "text": [
            "My dogs loves this chicken but its a product from China, so we wont be buying it anymore.  Its very hard to find any chicken products made in the USA but they are out there, but this one isnt.  Its too bad too because its a good product but I wont take any chances till they know what is going on with the china imports.\n"
          ],
          "name": "stdout"
        }
      ]
    },
    {
      "cell_type": "code",
      "metadata": {
        "id": "EGB6X2uxLPn7",
        "outputId": "d98579e6-2f39-4be8-c163-ab9e46ff757c",
        "colab": {
          "base_uri": "https://localhost:8080/",
          "height": 34
        }
      },
      "source": [
        "#remove spacial character: https://stackoverflow.com/a/5843547/4084039\n",
        "sent_1500 = re.sub('[^A-Za-z0-9]+', ' ', sent_1500)\n",
        "print(sent_1500)"
      ],
      "execution_count": null,
      "outputs": [
        {
          "output_type": "stream",
          "text": [
            "was way to hot for my blood took a bite and did a jig lol\n"
          ],
          "name": "stdout"
        }
      ]
    },
    {
      "cell_type": "code",
      "metadata": {
        "id": "CCurSJJ2LPn_"
      },
      "source": [
        "# https://gist.github.com/sebleier/554280\n",
        "# we are removing the words from the stop words list: 'no', 'nor', 'not'\n",
        "# <br /><br /> ==> after the above steps, we are getting \"br br\"\n",
        "# we are including them into stop words list\n",
        "# instead of <br /> if we have <br/> these tags would have revmoved in the 1st step\n",
        "\n",
        "stopwords= set(['br', 'the', 'i', 'me', 'my', 'myself', 'we', 'our', 'ours', 'ourselves', 'you', \"you're\", \"you've\",\\\n",
        "            \"you'll\", \"you'd\", 'your', 'yours', 'yourself', 'yourselves', 'he', 'him', 'his', 'himself', \\\n",
        "            'she', \"she's\", 'her', 'hers', 'herself', 'it', \"it's\", 'its', 'itself', 'they', 'them', 'their',\\\n",
        "            'theirs', 'themselves', 'what', 'which', 'who', 'whom', 'this', 'that', \"that'll\", 'these', 'those', \\\n",
        "            'am', 'is', 'are', 'was', 'were', 'be', 'been', 'being', 'have', 'has', 'had', 'having', 'do', 'does', \\\n",
        "            'did', 'doing', 'a', 'an', 'the', 'and', 'but', 'if', 'or', 'because', 'as', 'until', 'while', 'of', \\\n",
        "            'at', 'by', 'for', 'with', 'about', 'against', 'between', 'into', 'through', 'during', 'before', 'after',\\\n",
        "            'above', 'below', 'to', 'from', 'up', 'down', 'in', 'out', 'on', 'off', 'over', 'under', 'again', 'further',\\\n",
        "            'then', 'once', 'here', 'there', 'when', 'where', 'why', 'how', 'all', 'any', 'both', 'each', 'few', 'more',\\\n",
        "            'most', 'other', 'some', 'such', 'only', 'own', 'same', 'so', 'than', 'too', 'very', \\\n",
        "            's', 't', 'can', 'will', 'just', 'don', \"don't\", 'should', \"should've\", 'now', 'd', 'll', 'm', 'o', 're', \\\n",
        "            've', 'y', 'ain', 'aren', \"aren't\", 'couldn', \"couldn't\", 'didn', \"didn't\", 'doesn', \"doesn't\", 'hadn',\\\n",
        "            \"hadn't\", 'hasn', \"hasn't\", 'haven', \"haven't\", 'isn', \"isn't\", 'ma', 'mightn', \"mightn't\", 'mustn',\\\n",
        "            \"mustn't\", 'needn', \"needn't\", 'shan', \"shan't\", 'shouldn', \"shouldn't\", 'wasn', \"wasn't\", 'weren', \"weren't\", \\\n",
        "            'won', \"won't\", 'wouldn', \"wouldn't\"])"
      ],
      "execution_count": null,
      "outputs": []
    },
    {
      "cell_type": "code",
      "metadata": {
        "id": "mFHQEvfnLPoF",
        "outputId": "0e14467a-0898-4ff4-85b8-71d0deb80d64",
        "colab": {
          "base_uri": "https://localhost:8080/",
          "height": 34
        }
      },
      "source": [
        "# Combining all the above stundents \n",
        "from tqdm import tqdm\n",
        "preprocessed_reviews = []\n",
        "# tqdm is for printing the status bar\n",
        "for sentance in tqdm(final['Text'].values):\n",
        "    sentance = re.sub(r\"http\\S+\", \"\", sentance)\n",
        "    sentance = BeautifulSoup(sentance, 'lxml').get_text()\n",
        "    sentance = decontracted(sentance)\n",
        "    sentance = re.sub(\"\\S*\\d\\S*\", \"\", sentance).strip()\n",
        "    sentance = re.sub('[^A-Za-z]+', ' ', sentance)\n",
        "    # https://gist.github.com/sebleier/554280\n",
        "    sentance = ' '.join(e.lower() for e in sentance.split() if e.lower() not in stopwords)\n",
        "    preprocessed_reviews.append(sentance.strip())"
      ],
      "execution_count": null,
      "outputs": [
        {
          "output_type": "stream",
          "text": [
            "100%|██████████| 87773/87773 [00:34<00:00, 2577.95it/s]\n"
          ],
          "name": "stderr"
        }
      ]
    },
    {
      "cell_type": "code",
      "metadata": {
        "id": "Tqx8QUeRLPoH",
        "outputId": "c9295432-e045-4c1f-a0ca-1110043fba8b",
        "colab": {
          "base_uri": "https://localhost:8080/",
          "height": 34
        }
      },
      "source": [
        "preprocessed_reviews[1500]"
      ],
      "execution_count": null,
      "outputs": [
        {
          "output_type": "execute_result",
          "data": {
            "text/plain": [
              "'way hot blood took bite jig lol'"
            ]
          },
          "metadata": {
            "tags": []
          },
          "execution_count": 23
        }
      ]
    },
    {
      "cell_type": "code",
      "metadata": {
        "id": "m5oJB14-N79v"
      },
      "source": [
        "from sklearn.model_selection import train_test_split\n",
        "from sklearn.linear_model import LogisticRegression\n",
        "from prettytable import PrettyTable"
      ],
      "execution_count": null,
      "outputs": []
    },
    {
      "cell_type": "code",
      "metadata": {
        "id": "jzvD9MEdOC0U"
      },
      "source": [
        "# Confusion matrix print function \n",
        "def ConfusionMatrixPrint(cm):\n",
        "  class_label = [\"negative\", \"positive\"]\n",
        "  df_cm = pd.DataFrame(cm, index = class_label, columns = class_label)\n",
        "  sns.heatmap(df_cm, annot = True, fmt = \"d\")\n",
        "  plt.title(\"Confusion Matrix\")\n",
        "  plt.xlabel(\"Predicted Label\")\n",
        "  plt.ylabel(\"True Label\")\n",
        "  plt.show()\n",
        "  \n",
        "def ROCCurvePrint(fpr,tpr, fpr_tr, tpr_tr):\n",
        "  plt.figure()\n",
        "  plt.plot(fpr, tpr,label='Test ROC curve' ,\n",
        "           color='darkorange', linestyle=':', linewidth=4)\n",
        "\n",
        "  plt.plot(fpr_tr, tpr_tr,label='Train ROC curve',\n",
        "           color='navy', linestyle=':', linewidth=4)\n",
        "  plt.plot([0, 1], [0, 1], 'k--')\n",
        "  plt.xlim([0.0, 1.0])\n",
        "  plt.ylim([0.0, 1.05])\n",
        "  plt.xlabel('False Positive Rate')\n",
        "  plt.ylabel('True Positive Rate')\n",
        "  plt.title('ROC CURVE ')\n",
        "  plt.legend(loc=\"lower right\")\n",
        "  plt.show()"
      ],
      "execution_count": null,
      "outputs": []
    },
    {
      "cell_type": "code",
      "metadata": {
        "id": "SEioh8O6PwQA",
        "outputId": "824ed9c2-6f76-4eaf-c67b-257231ca82b6",
        "colab": {
          "base_uri": "https://localhost:8080/",
          "height": 69
        }
      },
      "source": [
        "X = preprocessed_reviews\n",
        "y = final['Score']\n",
        "X_1, X_test, y_1, y_test = train_test_split(X, y, test_size=0.3, random_state=0)\n",
        "X_tr, X_cv, y_tr, y_cv = train_test_split(X_1, y_1, test_size=0.3)\n",
        "C = [10**-4, 10**-3, 10**-2, 10**-1, 10**0, 10**1, 10**2, 10**3, 10**4]\n",
        "print(\"---------------------------------------------\")\n",
        "print(C)\n",
        "print(\"---------------------------------------------\")"
      ],
      "execution_count": null,
      "outputs": [
        {
          "output_type": "stream",
          "text": [
            "---------------------------------------------\n",
            "[0.0001, 0.001, 0.01, 0.1, 1, 10, 100, 1000, 10000]\n",
            "---------------------------------------------\n"
          ],
          "name": "stdout"
        }
      ]
    },
    {
      "cell_type": "markdown",
      "metadata": {
        "id": "LE_XPVZJLPo4"
      },
      "source": [
        "##<font color='green'><b>Logistic Regression with text Encoding as 'BOW'"
      ]
    },
    {
      "cell_type": "markdown",
      "metadata": {
        "id": "_iciJvj2LPo4"
      },
      "source": [
        "###<font color='green'><b>With L1 regularization"
      ]
    },
    {
      "cell_type": "code",
      "metadata": {
        "id": "MyOVi-xYLPo5"
      },
      "source": [
        "cv_auc = []\n",
        "train_auc = []\n",
        "iterator = []\n",
        "for c in C:\n",
        "  clf = LogisticRegression(C = c, penalty ='l1')\n",
        "  vectorizer =  CountVectorizer()\n",
        "  vectorizer.fit(X_tr)\n",
        "  X_tr_bow = vectorizer.transform(X_tr)\n",
        "  clf.fit(X_tr_bow,y_tr)\n",
        "  X_cv_bow = vectorizer.transform(X_cv)\n",
        "  y_cv_predict = np.array(clf.predict_proba(X_cv_bow))\n",
        "  preds = np.max(y_cv_predict,axis=1)\n",
        "  fpr, tpr, threshold = metrics.roc_curve(y_cv, preds)\n",
        "  cvAUC = metrics.auc(fpr, tpr)\n",
        "  y_tr_predict = np.array(clf.predict_proba(X_tr_bow))\n",
        "  y_tr_predict = np.max(y_tr_predict,axis=1)\n",
        "  fpr_tr, tpr_tr, threshold_tr = metrics.roc_curve(y_tr, y_tr_predict)\n",
        "  trainAUC = metrics.auc(fpr_tr, tpr_tr)\n",
        "  cv_auc.append(cvAUC)\n",
        "  train_auc.append(trainAUC)"
      ],
      "execution_count": null,
      "outputs": []
    },
    {
      "cell_type": "code",
      "metadata": {
        "id": "sREDEgzs4RYI",
        "outputId": "8c2cb43f-279b-4acf-d6cd-66499ddbe5b7",
        "colab": {
          "base_uri": "https://localhost:8080/",
          "height": 300
        }
      },
      "source": [
        "#plotting the graph \n",
        "iterator = np.log10(C)\n",
        "print(iterator)\n",
        "plt.plot(iterator, cv_auc, linewidth=2)\n",
        "plt.plot(iterator, train_auc, linewidth=2)\n",
        "plt.axis('tight')\n",
        "plt.grid()\n",
        "plt.xlabel('Hyper parameter values')\n",
        "plt.ylabel('AUC')\n",
        "plt.legend(['Cross validation AUC', 'Train AUC'], loc='upper right')\n",
        "plt.show()"
      ],
      "execution_count": null,
      "outputs": [
        {
          "output_type": "stream",
          "text": [
            "[-4. -3. -2. -1.  0.  1.  2.  3.  4.]\n"
          ],
          "name": "stdout"
        },
        {
          "output_type": "display_data",
          "data": {
            "image/png": "[encoded data removed]",
            "text/plain": [
              "<Figure size 432x288 with 1 Axes>"
            ]
          },
          "metadata": {
            "tags": []
          }
        }
      ]
    },
    {
      "cell_type": "code",
      "metadata": {
        "id": "ZFplfzmf4Vha",
        "outputId": "3f71ae2d-b3fb-4491-f2c9-722fd4689f0c",
        "colab": {
          "base_uri": "https://localhost:8080/",
          "height": 34
        }
      },
      "source": [
        "print(\"------- Optimal Hyperparameter is 0.1------------------\")"
      ],
      "execution_count": null,
      "outputs": [
        {
          "output_type": "stream",
          "text": [
            "------- Optimal Hyperparameter is 0.1------------------\n"
          ],
          "name": "stdout"
        }
      ]
    },
    {
      "cell_type": "code",
      "metadata": {
        "id": "KuFNJXpB4W70",
        "outputId": "42d9928b-55c3-4901-c63d-c127283bcbd2",
        "colab": {
          "base_uri": "https://localhost:8080/",
          "height": 104
        }
      },
      "source": [
        "clf = LogisticRegression(C = 0.1, penalty ='l1')\n",
        "vectorizer =  CountVectorizer()\n",
        "vectorizer.fit(X_tr)\n",
        "X_tr_bow = vectorizer.transform(X_tr)\n",
        "clf.fit(X_tr_bow, y_tr)"
      ],
      "execution_count": null,
      "outputs": [
        {
          "output_type": "execute_result",
          "data": {
            "text/plain": [
              "LogisticRegression(C=0.1, class_weight=None, dual=False, fit_intercept=True,\n",
              "                   intercept_scaling=1, l1_ratio=None, max_iter=100,\n",
              "                   multi_class='warn', n_jobs=None, penalty='l1',\n",
              "                   random_state=None, solver='warn', tol=0.0001, verbose=0,\n",
              "                   warm_start=False)"
            ]
          },
          "metadata": {
            "tags": []
          },
          "execution_count": 30
        }
      ]
    },
    {
      "cell_type": "code",
      "metadata": {
        "id": "qvTnWHc_4i0K",
        "outputId": "831704ec-6a0d-4664-c55e-c3c5a237a2bd",
        "colab": {
          "base_uri": "https://localhost:8080/",
          "height": 642
        }
      },
      "source": [
        "predict = clf.predict(X_tr_bow)\n",
        "cm = metrics.confusion_matrix(y_tr, predict)\n",
        "print(\"Confusion Matrix on Train \\n\")\n",
        "ConfusionMatrixPrint(cm)\n",
        "test_dtm = vectorizer.transform(X_test)\n",
        "predict = clf.predict(test_dtm)\n",
        "cm = metrics.confusion_matrix(y_test, predict)\n",
        "print(\"Confusion Matrix on Test \\n\")\n",
        "ConfusionMatrixPrint(cm)"
      ],
      "execution_count": null,
      "outputs": [
        {
          "output_type": "stream",
          "text": [
            "Confusion Matrix on Train \n",
            "\n"
          ],
          "name": "stdout"
        },
        {
          "output_type": "display_data",
          "data": {
            "image/png": "[encoded data removed]",
            "text/plain": [
              "<Figure size 432x288 with 2 Axes>"
            ]
          },
          "metadata": {
            "tags": []
          }
        },
        {
          "output_type": "stream",
          "text": [
            "Confusion Matrix on Test \n",
            "\n"
          ],
          "name": "stdout"
        },
        {
          "output_type": "display_data",
          "data": {
            "image/png": "[encoded data removed]",
            "text/plain": [
              "<Figure size 432x288 with 2 Axes>"
            ]
          },
          "metadata": {
            "tags": []
          }
        }
      ]
    },
    {
      "cell_type": "code",
      "metadata": {
        "id": "Sm_Udgf54iw-",
        "outputId": "700ac51a-4b12-4e81-b647-c914d306c6e0",
        "colab": {
          "base_uri": "https://localhost:8080/",
          "height": 330
        }
      },
      "source": [
        "y_cv_predict = np.array(clf.predict_proba(test_dtm))\n",
        "preds = np.max(y_cv_predict,axis=1)\n",
        "fpr, tpr, threshold = metrics.roc_curve(y_test, preds)\n",
        "roc_auc = metrics.auc(fpr, tpr)\n",
        "print(\"**** TEST AUC *** \", roc_auc)\n",
        "y_tr_predict = np.array(clf.predict_proba(X_tr_bow))\n",
        "y_tr_predict = np.max(y_tr_predict,axis=1)\n",
        "fpr_tr, tpr_tr, threshold_tr = metrics.roc_curve(y_tr, y_tr_predict)\n",
        "#calculating AUC\n",
        "auc = metrics.auc(fpr_tr, tpr_tr)\n",
        "print(\"**** TRAIN AUC ***** \", auc)\n",
        "ROCCurvePrint(fpr,tpr, fpr_tr, tpr_tr)"
      ],
      "execution_count": null,
      "outputs": [
        {
          "output_type": "stream",
          "text": [
            "**** TEST AUC ***  0.8010722768876878\n",
            "**** TRAIN AUC *****  0.8172011908056911\n"
          ],
          "name": "stdout"
        },
        {
          "output_type": "display_data",
          "data": {
            "image/png": "[encoded data removed]",
            "text/plain": [
              "<Figure size 432x288 with 1 Axes>"
            ]
          },
          "metadata": {
            "tags": []
          }
        }
      ]
    },
    {
      "cell_type": "markdown",
      "metadata": {
        "id": "5h4NhywcLPo7"
      },
      "source": [
        "###<font color='green'><b>Sparsity"
      ]
    },
    {
      "cell_type": "code",
      "metadata": {
        "id": "iWnpD1txFTFt"
      },
      "source": [
        "sparsityL1 = []\n",
        "sparsityL2 = []\n",
        "for c in C:\n",
        "  clf = LogisticRegression(C = c, penalty ='l1')\n",
        "  vectorizer =  CountVectorizer()\n",
        "  vectorizer.fit(X_tr)\n",
        "  X_tr_bow = vectorizer.transform(X_tr)\n",
        "  clf.fit(X_tr_bow,y_tr)\n",
        "  w = clf.coef_\n",
        "  sparsityL1.append(np.count_nonzero(w))\n",
        "  \n",
        "  clf = LogisticRegression(C = c, penalty ='l2')\n",
        "  clf.fit(X_tr_bow,y_tr)\n",
        "  w = clf.coef_\n",
        "  sparsityL2.append(np.count_nonzero(w))"
      ],
      "execution_count": null,
      "outputs": []
    },
    {
      "cell_type": "code",
      "metadata": {
        "id": "GxH_uFzWGBhs",
        "outputId": "040fa48a-a435-4d1a-cded-bba14164f877",
        "colab": {
          "base_uri": "https://localhost:8080/",
          "height": 243
        }
      },
      "source": [
        "x = PrettyTable()\n",
        "x.add_column(\"L1\",sparsityL1)\n",
        "x.add_column(\"L2\",sparsityL2)\n",
        "print(x)"
      ],
      "execution_count": null,
      "outputs": [
        {
          "output_type": "stream",
          "text": [
            "+-------+-------+\n",
            "|   L1  |   L2  |\n",
            "+-------+-------+\n",
            "|   0   | 39168 |\n",
            "|   3   | 39168 |\n",
            "|   88  | 39168 |\n",
            "|  707  | 39168 |\n",
            "|  3706 | 39168 |\n",
            "|  7068 | 39168 |\n",
            "|  8045 | 39168 |\n",
            "| 12615 | 39168 |\n",
            "| 17213 | 39168 |\n",
            "+-------+-------+\n"
          ],
          "name": "stdout"
        }
      ]
    },
    {
      "cell_type": "markdown",
      "metadata": {
        "id": "rckMDyfAOJx9"
      },
      "source": [
        "#### As the lambda increases then the sparisty increases, here 'C' is the inverse of lambda that means as we increase 'C' then inherently we are decreasing the lambda. <br>\n",
        "#### Thus, as the 'C' increases the sparisty decrease due to which the non zero values in the weight vector increases. <br>\n",
        "#### Justification can be found on the above table."
      ]
    },
    {
      "cell_type": "markdown",
      "metadata": {
        "id": "aRHMa52qLPpA"
      },
      "source": [
        "###<font color='green'><b>With L2 regularization"
      ]
    },
    {
      "cell_type": "code",
      "metadata": {
        "id": "Y7Cu7xQuB__u"
      },
      "source": [
        "cv_auc = []\n",
        "train_auc = []\n",
        "iterator = []\n",
        "for c in C:\n",
        "  clf = LogisticRegression(C = c, penalty ='l2')\n",
        "  vectorizer =  CountVectorizer()\n",
        "  vectorizer.fit(X_tr)\n",
        "  X_tr_bow = vectorizer.transform(X_tr)\n",
        "  clf.fit(X_tr_bow,y_tr)\n",
        "  X_cv_bow = vectorizer.transform(X_cv)\n",
        "  y_cv_predict = np.array(clf.predict_proba(X_cv_bow))\n",
        "  preds = np.max(y_cv_predict,axis=1)\n",
        "  fpr, tpr, threshold = metrics.roc_curve(y_cv, preds)\n",
        "  cvAUC = metrics.auc(fpr, tpr)\n",
        "  y_tr_predict = np.array(clf.predict_proba(X_tr_bow))\n",
        "  y_tr_predict = np.max(y_tr_predict,axis=1)\n",
        "  fpr_tr, tpr_tr, threshold_tr = metrics.roc_curve(y_tr, y_tr_predict)\n",
        "  trainAUC = metrics.auc(fpr_tr, tpr_tr)\n",
        "  cv_auc.append(cvAUC)\n",
        "  train_auc.append(trainAUC)\n",
        "  "
      ],
      "execution_count": null,
      "outputs": []
    },
    {
      "cell_type": "code",
      "metadata": {
        "id": "KKehakgKB__7",
        "outputId": "058176c6-975c-4ebb-8946-2a7995160567",
        "colab": {
          "base_uri": "https://localhost:8080/",
          "height": 300
        }
      },
      "source": [
        "#plotting the graph \n",
        "iterator = np.log10(C)\n",
        "print(iterator)\n",
        "plt.plot(iterator, cv_auc, linewidth=2)\n",
        "plt.plot(iterator, train_auc, linewidth=2)\n",
        "plt.axis('tight')\n",
        "plt.grid()\n",
        "plt.xlabel('Hyper parameter values')\n",
        "plt.ylabel('AUC')\n",
        "plt.legend(['Cross validation AUC', 'Train AUC'], loc='upper right')\n",
        "plt.show()"
      ],
      "execution_count": null,
      "outputs": [
        {
          "output_type": "stream",
          "text": [
            "[-4. -3. -2. -1.  0.  1.  2.  3.  4.]\n"
          ],
          "name": "stdout"
        },
        {
          "output_type": "display_data",
          "data": {
            "image/png": "[encoded data removed]",
            "text/plain": [
              "<Figure size 432x288 with 1 Axes>"
            ]
          },
          "metadata": {
            "tags": []
          }
        }
      ]
    },
    {
      "cell_type": "code",
      "metadata": {
        "id": "A2mT3ylOCAAS",
        "outputId": "0e9644cf-50be-4e93-f762-e298e3237f4e",
        "colab": {
          "base_uri": "https://localhost:8080/",
          "height": 34
        }
      },
      "source": [
        "print(\"------- Optimal Hyperparameter is 0.01 ------------------\")"
      ],
      "execution_count": null,
      "outputs": [
        {
          "output_type": "stream",
          "text": [
            "------- Optimal Hyperparameter is 0.01 ------------------\n"
          ],
          "name": "stdout"
        }
      ]
    },
    {
      "cell_type": "code",
      "metadata": {
        "id": "QlpoDMKLCAAm",
        "outputId": "bfda27ae-ceb8-4517-ddcc-10e6f757cfe2",
        "colab": {
          "base_uri": "https://localhost:8080/",
          "height": 104
        }
      },
      "source": [
        "clf = LogisticRegression(C = 0.01, penalty ='l2')\n",
        "vectorizer =  CountVectorizer()\n",
        "vectorizer.fit(X_tr)\n",
        "X_tr_bow = vectorizer.transform(X_tr)\n",
        "clf.fit(X_tr_bow, y_tr)"
      ],
      "execution_count": null,
      "outputs": [
        {
          "output_type": "execute_result",
          "data": {
            "text/plain": [
              "LogisticRegression(C=0.01, class_weight=None, dual=False, fit_intercept=True,\n",
              "                   intercept_scaling=1, l1_ratio=None, max_iter=100,\n",
              "                   multi_class='warn', n_jobs=None, penalty='l2',\n",
              "                   random_state=None, solver='warn', tol=0.0001, verbose=0,\n",
              "                   warm_start=False)"
            ]
          },
          "metadata": {
            "tags": []
          },
          "execution_count": 101
        }
      ]
    },
    {
      "cell_type": "code",
      "metadata": {
        "id": "ZNdzDgRACAA6",
        "outputId": "bb5de438-ec30-4761-f7ef-7b1c5622ae75",
        "colab": {
          "base_uri": "https://localhost:8080/",
          "height": 642
        }
      },
      "source": [
        "predict = clf.predict(X_tr_bow)\n",
        "cm = metrics.confusion_matrix(y_tr, predict)\n",
        "print(\"Confusion Matrix on Train \\n\")\n",
        "ConfusionMatrixPrint(cm)\n",
        "test_dtm = vectorizer.transform(X_test)\n",
        "predict = clf.predict(test_dtm)\n",
        "cm = metrics.confusion_matrix(y_test, predict)\n",
        "print(\"Confusion Matrix on Test \\n\")\n",
        "ConfusionMatrixPrint(cm)"
      ],
      "execution_count": null,
      "outputs": [
        {
          "output_type": "stream",
          "text": [
            "Confusion Matrix on Train \n",
            "\n"
          ],
          "name": "stdout"
        },
        {
          "output_type": "display_data",
          "data": {
            "image/png": "[encoded data removed]",
            "text/plain": [
              "<Figure size 432x288 with 2 Axes>"
            ]
          },
          "metadata": {
            "tags": []
          }
        },
        {
          "output_type": "stream",
          "text": [
            "Confusion Matrix on Test \n",
            "\n"
          ],
          "name": "stdout"
        },
        {
          "output_type": "display_data",
          "data": {
            "image/png": "[encoded data removed]",
            "text/plain": [
              "<Figure size 432x288 with 2 Axes>"
            ]
          },
          "metadata": {
            "tags": []
          }
        }
      ]
    },
    {
      "cell_type": "code",
      "metadata": {
        "id": "nXY5VMg_CABL",
        "outputId": "36bf10bb-d803-46a7-8bc9-79af695c0034",
        "colab": {
          "base_uri": "https://localhost:8080/",
          "height": 330
        }
      },
      "source": [
        "y_cv_predict = np.array(clf.predict_proba(test_dtm))\n",
        "preds = np.max(y_cv_predict,axis=1)\n",
        "fpr, tpr, threshold = metrics.roc_curve(y_test, preds)\n",
        "roc_auc = metrics.auc(fpr, tpr)\n",
        "print(\"**** TEST AUC *** \", roc_auc)\n",
        "y_tr_predict = np.array(clf.predict_proba(X_tr_bow))\n",
        "y_tr_predict = np.max(y_tr_predict,axis=1)\n",
        "fpr_tr, tpr_tr, threshold_tr = metrics.roc_curve(y_tr, y_tr_predict)\n",
        "#calculating AUC\n",
        "auc = metrics.auc(fpr_tr, tpr_tr)\n",
        "print(\"**** TRAIN AUC ***** \", auc)\n",
        "ROCCurvePrint(fpr,tpr, fpr_tr, tpr_tr)"
      ],
      "execution_count": null,
      "outputs": [
        {
          "output_type": "stream",
          "text": [
            "**** TEST AUC ***  0.8570088899435061\n",
            "**** TRAIN AUC *****  0.8765215143579488\n"
          ],
          "name": "stdout"
        },
        {
          "output_type": "display_data",
          "data": {
            "image/png": "[encoded data removed]",
            "text/plain": [
              "<Figure size 432x288 with 1 Axes>"
            ]
          },
          "metadata": {
            "tags": []
          }
        }
      ]
    },
    {
      "cell_type": "markdown",
      "metadata": {
        "id": "pS33miU5DXOI"
      },
      "source": [
        "###<font color='green'><b>Feature Importance"
      ]
    },
    {
      "cell_type": "markdown",
      "metadata": {
        "id": "v73sZKIBDXOi"
      },
      "source": [
        "Top 10 important features of positive class and Negative "
      ]
    },
    {
      "cell_type": "code",
      "metadata": {
        "id": "iav1LGgZDXOv",
        "outputId": "3c486842-2deb-40cb-a811-217c95bb4882",
        "colab": {
          "base_uri": "https://localhost:8080/",
          "height": 191
        }
      },
      "source": [
        "feature_names = vectorizer.get_feature_names()\n",
        "coefs_with_fns = sorted(zip(clf.coef_[0], feature_names))\n",
        "top = zip(coefs_with_fns[:10], coefs_with_fns[:-(10+ 1):-1])\n",
        "for (coef_1, fn_1), (coef_2, fn_2) in top:\n",
        "  print (\"\\t%.4f\\t%-15s\\t\\t%.4f\\t%-15s\"% (coef_1, fn_1, coef_2, fn_2))"
      ],
      "execution_count": null,
      "outputs": [
        {
          "output_type": "stream",
          "text": [
            "\t-0.7522\tdisappointed   \t\t0.9240\tgreat          \n",
            "\t-0.6692\tmoney          \t\t0.8348\tdelicious      \n",
            "\t-0.6300\tworst          \t\t0.7818\tbest           \n",
            "\t-0.5983\tawful          \t\t0.7202\tperfect        \n",
            "\t-0.5763\thorrible       \t\t0.6696\texcellent      \n",
            "\t-0.5541\tunfortunately  \t\t0.6486\tloves          \n",
            "\t-0.5312\tterrible       \t\t0.6005\twonderful      \n",
            "\t-0.5296\tdisappointing  \t\t0.5849\tnice           \n",
            "\t-0.4905\tstale          \t\t0.5460\tlove           \n",
            "\t-0.4785\twaste          \t\t0.5384\thighly         \n"
          ],
          "name": "stdout"
        }
      ]
    },
    {
      "cell_type": "markdown",
      "metadata": {
        "id": "UaJkugTKLPpE"
      },
      "source": [
        "###<font color='green'><b>Pertubation test (multicollinearity check)"
      ]
    },
    {
      "cell_type": "markdown",
      "source": [
        "<li><strong>Pertubation Test</strong>\n",
        "        <ul>\n",
        "    <li>Get the weights W after fit your model with the data X i.e Train data.</li>\n",
        "    <li>Add a noise to the X (X' = X + e) and get the new data set X' (if X is a sparse\n",
        "matrix, X.data+=e)</li>\n",
        "    <li>Fit the model again on data X' and get the weights W'</li>\n",
        "    <li>Add a small eps value(to eliminate the divisible by zero error) to W and W’ i.e\n",
        "W=W+10^-6 and W’ = W’+10^-6</li>\n",
        "    <li>Now find the % change between W and W' (| (W-W') / (W) |)*100)</li>\n",
        "    <li>Calculate the 0th, 10th, 20th, 30th, ...100th percentiles, and observe any sudden rise in the values of percentage_change_vector</li>\n",
        "    <li> Ex: consider your 99th percentile is 1.3 and your 100th percentiles are 34.6, there is sudden rise from 1.3 to 34.6, now calculate the 99.1, 99.2, 99.3,..., 100th percentile values and get the proper value after which there is sudden rise the values, assume it is 2.5</li>\n",
        "            <li> Print the feature names whose % change is more than a threshold x(in our example it's 2.5)</li>\n",
        "        </ul>\n",
        "    </li>"
      ],
      "metadata": {
        "id": "mhnqAprFbcjy"
      }
    },
    {
      "cell_type": "code",
      "metadata": {
        "id": "E1c5B1nELPpF",
        "outputId": "2009b4c8-9ac8-4923-ef9b-ed1790a4562b",
        "colab": {
          "base_uri": "https://localhost:8080/",
          "height": 104
        }
      },
      "source": [
        "vectorizer = CountVectorizer()\n",
        "X = vectorizer.fit_transform(X_tr)\n",
        "clf = LogisticRegression(C = 0.1, penalty ='l2')\n",
        "clf.fit(X, y_tr)"
      ],
      "execution_count": null,
      "outputs": [
        {
          "output_type": "execute_result",
          "data": {
            "text/plain": [
              "LogisticRegression(C=0.1, class_weight=None, dual=False, fit_intercept=True,\n",
              "                   intercept_scaling=1, l1_ratio=None, max_iter=100,\n",
              "                   multi_class='warn', n_jobs=None, penalty='l2',\n",
              "                   random_state=None, solver='warn', tol=0.0001, verbose=0,\n",
              "                   warm_start=False)"
            ]
          },
          "metadata": {
            "tags": []
          },
          "execution_count": 41
        }
      ]
    },
    {
      "cell_type": "code",
      "metadata": {
        "id": "jy4ykt_ewANL"
      },
      "source": [
        "W = clf.coef_[0]"
      ],
      "execution_count": null,
      "outputs": []
    },
    {
      "cell_type": "code",
      "metadata": {
        "id": "bwKossdhJf8Y"
      },
      "source": [
        "mu, sigma = 0, 0.1 \n",
        "noise = np.random.normal(mu, sigma) \n",
        "X.data = X.data + noise"
      ],
      "execution_count": null,
      "outputs": []
    },
    {
      "cell_type": "code",
      "metadata": {
        "id": "Jdmzcs1twkva",
        "outputId": "ba1761cf-435b-42a2-f99b-0bd6cb06d82e",
        "colab": {
          "base_uri": "https://localhost:8080/",
          "height": 104
        }
      },
      "source": [
        "clf = LogisticRegression(C = 0.1, penalty ='l2')\n",
        "clf.fit(X, y_tr)"
      ],
      "execution_count": null,
      "outputs": [
        {
          "output_type": "execute_result",
          "data": {
            "text/plain": [
              "LogisticRegression(C=0.1, class_weight=None, dual=False, fit_intercept=True,\n",
              "                   intercept_scaling=1, l1_ratio=None, max_iter=100,\n",
              "                   multi_class='warn', n_jobs=None, penalty='l2',\n",
              "                   random_state=None, solver='warn', tol=0.0001, verbose=0,\n",
              "                   warm_start=False)"
            ]
          },
          "metadata": {
            "tags": []
          },
          "execution_count": 44
        }
      ]
    },
    {
      "cell_type": "code",
      "metadata": {
        "id": "_XJbqwmxwxfL"
      },
      "source": [
        "W_with_noise_in_data = clf.coef_[0] "
      ],
      "execution_count": null,
      "outputs": []
    },
    {
      "cell_type": "code",
      "metadata": {
        "id": "7mrdoO7fw_35"
      },
      "source": [
        "W_with_noise_in_data = np.array(W_with_noise_in_data)\n",
        "W = np.array(W)"
      ],
      "execution_count": null,
      "outputs": []
    },
    {
      "cell_type": "code",
      "metadata": {
        "id": "hqGP6bUDxHgo"
      },
      "source": [
        "W = W + 10**-6\n",
        "W_with_noise_in_data = W_with_noise_in_data + 10**-6"
      ],
      "execution_count": null,
      "outputs": []
    },
    {
      "cell_type": "code",
      "metadata": {
        "id": "w2NcmZe4xHYI"
      },
      "source": [
        "delta = abs((W - W_with_noise_in_data)/W)*100"
      ],
      "execution_count": null,
      "outputs": []
    },
    {
      "cell_type": "code",
      "metadata": {
        "id": "msaRz35Rzn-H"
      },
      "source": [
        "feature_names = vectorizer.get_feature_names()\n",
        "delta_sorted = sorted(zip(delta, feature_names), reverse = True)"
      ],
      "execution_count": null,
      "outputs": []
    },
    {
      "cell_type": "markdown",
      "metadata": {
        "id": "bQZfzIEh-A9T"
      },
      "source": [
        "We are plotting the first 300 entries to find the steepness of curve"
      ]
    },
    {
      "cell_type": "code",
      "metadata": {
        "id": "cjhys8FZzn5K",
        "outputId": "51a392e2-ab78-4047-81f5-2ddfd0e01550",
        "colab": {
          "base_uri": "https://localhost:8080/",
          "height": 295
        }
      },
      "source": [
        "y, featurename = zip(*delta_sorted)\n",
        "plt.plot(y[:300], marker='o', markerfacecolor='blue', markersize=4, color='skyblue', linewidth=1)\n",
        "plt.axis('tight')\n",
        "plt.grid()\n",
        "plt.xlabel('Feature Index')\n",
        "plt.ylabel('% age change in Weights')\n",
        "plt.title('Feature Index Vs % age change in Weights')\n",
        "plt.show()"
      ],
      "execution_count": null,
      "outputs": [
        {
          "output_type": "display_data",
          "data": {
            "image/png": "[encoded data removed]",
            "text/plain": [
              "<Figure size 432x288 with 1 Axes>"
            ]
          },
          "metadata": {
            "tags": []
          }
        }
      ]
    },
    {
      "cell_type": "markdown",
      "metadata": {
        "id": "pcihD1nX-mFf"
      },
      "source": [
        "We select '50' as threshold, to conclude that first 50 features are multicollinear"
      ]
    },
    {
      "cell_type": "code",
      "metadata": {
        "id": "rh_HjhOWznyC",
        "outputId": "32f9fe7b-ba20-4d6a-8697-2c25558b0e05",
        "colab": {
          "base_uri": "https://localhost:8080/",
          "height": 920
        }
      },
      "source": [
        "print(\"---- Multi-Collinear Features are ---------\")\n",
        "for f in featurename[:51]:\n",
        "  print(f)"
      ],
      "execution_count": null,
      "outputs": [
        {
          "output_type": "stream",
          "text": [
            "---- Multi-Collinear Features are ---------\n",
            "surfing\n",
            "busted\n",
            "observed\n",
            "rices\n",
            "rests\n",
            "acted\n",
            "maker\n",
            "video\n",
            "fought\n",
            "tract\n",
            "constantly\n",
            "laced\n",
            "unwinding\n",
            "streusel\n",
            "salong\n",
            "lani\n",
            "kei\n",
            "fairmontstore\n",
            "dined\n",
            "daiquiri\n",
            "curbed\n",
            "eliminate\n",
            "hidden\n",
            "cummunity\n",
            "sacrificing\n",
            "chihuahuas\n",
            "reminiscent\n",
            "jaw\n",
            "unsafe\n",
            "certificate\n",
            "sam\n",
            "votes\n",
            "gums\n",
            "stateside\n",
            "insects\n",
            "sorbate\n",
            "scrubbing\n",
            "evaluated\n",
            "misguided\n",
            "chains\n",
            "postage\n",
            "cases\n",
            "diligent\n",
            "tignor\n",
            "bob\n",
            "micklegal\n",
            "boson\n",
            "injectable\n",
            "catty\n",
            "extrememly\n",
            "smelly\n"
          ],
          "name": "stdout"
        }
      ]
    },
    {
      "cell_type": "markdown",
      "metadata": {
        "id": "nKn3VXcZLPpN"
      },
      "source": [
        "##<font color='green'><b>Logistic Regression with text Encoding as 'TF-IDF'"
      ]
    },
    {
      "cell_type": "markdown",
      "metadata": {
        "id": "naTBSzm6LPpN"
      },
      "source": [
        "###<font color='green'><b>With L1 regularization"
      ]
    },
    {
      "cell_type": "code",
      "metadata": {
        "id": "w6veASd2FFrz"
      },
      "source": [
        "cv_auc = []\n",
        "train_auc = []\n",
        "iterator = []\n",
        "for c in C:\n",
        "  clf = LogisticRegression(C = c, penalty ='l1')\n",
        "  vectorizer =  TfidfVectorizer()\n",
        "  vectorizer.fit(X_tr)\n",
        "  X_tr_bow = vectorizer.transform(X_tr)\n",
        "  clf.fit(X_tr_bow,y_tr)\n",
        "  X_cv_bow = vectorizer.transform(X_cv)\n",
        "  y_cv_predict = np.array(clf.predict_proba(X_cv_bow))\n",
        "  preds = np.max(y_cv_predict,axis=1)\n",
        "  fpr, tpr, threshold = metrics.roc_curve(y_cv, preds)\n",
        "  cvAUC = metrics.auc(fpr, tpr)\n",
        "  y_tr_predict = np.array(clf.predict_proba(X_tr_bow))\n",
        "  y_tr_predict = np.max(y_tr_predict,axis=1)\n",
        "  fpr_tr, tpr_tr, threshold_tr = metrics.roc_curve(y_tr, y_tr_predict)\n",
        "  trainAUC = metrics.auc(fpr_tr, tpr_tr)\n",
        "  cv_auc.append(cvAUC)\n",
        "  train_auc.append(trainAUC)\n",
        "  "
      ],
      "execution_count": null,
      "outputs": []
    },
    {
      "cell_type": "code",
      "metadata": {
        "id": "dvbqr98NFFsR",
        "outputId": "5115e036-8e1c-417e-89f0-3f398f820fcf",
        "colab": {
          "base_uri": "https://localhost:8080/",
          "height": 300
        }
      },
      "source": [
        "#plotting the graph \n",
        "iterator = np.log10(C)\n",
        "print(iterator)\n",
        "plt.plot(iterator, cv_auc, linewidth=2)\n",
        "plt.plot(iterator, train_auc, linewidth=2)\n",
        "plt.axis('tight')\n",
        "plt.grid()\n",
        "plt.xlabel('Hyper parameter values')\n",
        "plt.ylabel('AUC')\n",
        "plt.legend(['Cross validation AUC', 'Train AUC'], loc='upper right')\n",
        "plt.show()"
      ],
      "execution_count": null,
      "outputs": [
        {
          "output_type": "stream",
          "text": [
            "[-4. -3. -2. -1.  0.  1.  2.  3.  4.]\n"
          ],
          "name": "stdout"
        },
        {
          "output_type": "display_data",
          "data": {
            "image/png": "[encoded data removed]",
            "text/plain": [
              "<Figure size 432x288 with 1 Axes>"
            ]
          },
          "metadata": {
            "tags": []
          }
        }
      ]
    },
    {
      "cell_type": "code",
      "metadata": {
        "id": "UOwSotxHFFsr",
        "outputId": "93ca1a5e-3cd9-4764-9f65-dae0851ec076",
        "colab": {
          "base_uri": "https://localhost:8080/",
          "height": 34
        }
      },
      "source": [
        "print(\"------- Optimal Hyperparameter is 0.1------------------\")"
      ],
      "execution_count": null,
      "outputs": [
        {
          "output_type": "stream",
          "text": [
            "------- Optimal Hyperparameter is 0.1------------------\n"
          ],
          "name": "stdout"
        }
      ]
    },
    {
      "cell_type": "code",
      "metadata": {
        "id": "UDukch9PFFs8",
        "outputId": "1f3139ec-a54d-40f6-ef6a-1d46580a424a",
        "colab": {
          "base_uri": "https://localhost:8080/",
          "height": 104
        }
      },
      "source": [
        "clf = LogisticRegression(C = 0.1, penalty ='l1')\n",
        "vectorizer =  TfidfVectorizer()\n",
        "vectorizer.fit(X_tr)\n",
        "X_tr_bow = vectorizer.transform(X_tr)\n",
        "clf.fit(X_tr_bow, y_tr)"
      ],
      "execution_count": null,
      "outputs": [
        {
          "output_type": "execute_result",
          "data": {
            "text/plain": [
              "LogisticRegression(C=0.1, class_weight=None, dual=False, fit_intercept=True,\n",
              "                   intercept_scaling=1, l1_ratio=None, max_iter=100,\n",
              "                   multi_class='warn', n_jobs=None, penalty='l1',\n",
              "                   random_state=None, solver='warn', tol=0.0001, verbose=0,\n",
              "                   warm_start=False)"
            ]
          },
          "metadata": {
            "tags": []
          },
          "execution_count": 56
        }
      ]
    },
    {
      "cell_type": "code",
      "metadata": {
        "id": "AAtoqjJoFFtO",
        "outputId": "c40fe1a0-b3e0-4f87-bf12-57b901000211",
        "colab": {
          "base_uri": "https://localhost:8080/",
          "height": 642
        }
      },
      "source": [
        "predict = clf.predict(X_tr_bow)\n",
        "cm = metrics.confusion_matrix(y_tr, predict)\n",
        "print(\"Confusion Matrix on Train \\n\")\n",
        "ConfusionMatrixPrint(cm)\n",
        "test_dtm = vectorizer.transform(X_test)\n",
        "predict = clf.predict(test_dtm)\n",
        "cm = metrics.confusion_matrix(y_test, predict)\n",
        "print(\"Confusion Matrix on Test \\n\")\n",
        "ConfusionMatrixPrint(cm)"
      ],
      "execution_count": null,
      "outputs": [
        {
          "output_type": "stream",
          "text": [
            "Confusion Matrix on Train \n",
            "\n"
          ],
          "name": "stdout"
        },
        {
          "output_type": "display_data",
          "data": {
            "image/png": "[encoded data removed]",
            "text/plain": [
              "<Figure size 432x288 with 2 Axes>"
            ]
          },
          "metadata": {
            "tags": []
          }
        },
        {
          "output_type": "stream",
          "text": [
            "Confusion Matrix on Test \n",
            "\n"
          ],
          "name": "stdout"
        },
        {
          "output_type": "display_data",
          "data": {
            "image/png": "[encoded data removed]",
            "text/plain": [
              "<Figure size 432x288 with 2 Axes>"
            ]
          },
          "metadata": {
            "tags": []
          }
        }
      ]
    },
    {
      "cell_type": "code",
      "metadata": {
        "id": "w650TlkmFFtc",
        "outputId": "1688b389-be4e-42a4-b77b-df4f823fb0da",
        "colab": {
          "base_uri": "https://localhost:8080/",
          "height": 330
        }
      },
      "source": [
        "y_cv_predict = np.array(clf.predict_proba(test_dtm))\n",
        "preds = np.max(y_cv_predict,axis=1)\n",
        "fpr, tpr, threshold = metrics.roc_curve(y_test, preds)\n",
        "roc_auc = metrics.auc(fpr, tpr)\n",
        "print(\"**** TEST AUC *** \", roc_auc)\n",
        "y_tr_predict = np.array(clf.predict_proba(X_tr_bow))\n",
        "y_tr_predict = np.max(y_tr_predict,axis=1)\n",
        "fpr_tr, tpr_tr, threshold_tr = metrics.roc_curve(y_tr, y_tr_predict)\n",
        "#calculating AUC\n",
        "auc = metrics.auc(fpr_tr, tpr_tr)\n",
        "print(\"**** TRAIN AUC ***** \", auc)\n",
        "ROCCurvePrint(fpr,tpr, fpr_tr, tpr_tr)"
      ],
      "execution_count": null,
      "outputs": [
        {
          "output_type": "stream",
          "text": [
            "**** TEST AUC ***  0.8566416625235278\n",
            "**** TRAIN AUC *****  0.8633228368667571\n"
          ],
          "name": "stdout"
        },
        {
          "output_type": "display_data",
          "data": {
            "image/png": "[encoded data removed]",
            "text/plain": [
              "<Figure size 432x288 with 1 Axes>"
            ]
          },
          "metadata": {
            "tags": []
          }
        }
      ]
    },
    {
      "cell_type": "markdown",
      "metadata": {
        "id": "NdFShHQJLPpV"
      },
      "source": [
        "###<font color='green'><b>With L2 regularization"
      ]
    },
    {
      "cell_type": "code",
      "metadata": {
        "id": "aaz5YhobF4ad"
      },
      "source": [
        "# Please write all the code with proper documentation\n",
        "cv_auc = []\n",
        "train_auc = []\n",
        "iterator = []\n",
        "for c in C:\n",
        "  clf = LogisticRegression(C = c, penalty ='l2')\n",
        "  vectorizer =  TfidfVectorizer()\n",
        "  vectorizer.fit(X_tr)\n",
        "  X_tr_bow = vectorizer.transform(X_tr)\n",
        "  clf.fit(X_tr_bow,y_tr)\n",
        "  X_cv_bow = vectorizer.transform(X_cv)\n",
        "  y_cv_predict = np.array(clf.predict_proba(X_cv_bow))\n",
        "  preds = np.max(y_cv_predict,axis=1)\n",
        "  fpr, tpr, threshold = metrics.roc_curve(y_cv, preds)\n",
        "  cvAUC = metrics.auc(fpr, tpr)\n",
        "  y_tr_predict = np.array(clf.predict_proba(X_tr_bow))\n",
        "  y_tr_predict = np.max(y_tr_predict,axis=1)\n",
        "  fpr_tr, tpr_tr, threshold_tr = metrics.roc_curve(y_tr, y_tr_predict)\n",
        "  trainAUC = metrics.auc(fpr_tr, tpr_tr)\n",
        "  cv_auc.append(cvAUC)\n",
        "  train_auc.append(trainAUC)\n",
        "  "
      ],
      "execution_count": null,
      "outputs": []
    },
    {
      "cell_type": "code",
      "metadata": {
        "id": "1ufUjSZ4F4a5",
        "outputId": "9eaa890d-71c9-48c0-8f4a-956146667179",
        "colab": {
          "base_uri": "https://localhost:8080/",
          "height": 300
        }
      },
      "source": [
        "#plotting the graph \n",
        "iterator = np.log10(C)\n",
        "print(iterator)\n",
        "plt.plot(iterator, cv_auc, linewidth=2)\n",
        "plt.plot(iterator, train_auc, linewidth=2)\n",
        "plt.axis('tight')\n",
        "plt.grid()\n",
        "plt.xlabel('Hyper parameter values')\n",
        "plt.ylabel('AUC')\n",
        "plt.legend(['Cross validation AUC', 'Train AUC'], loc='upper right')\n",
        "plt.show()"
      ],
      "execution_count": null,
      "outputs": [
        {
          "output_type": "stream",
          "text": [
            "[-4. -3. -2. -1.  0.  1.  2.  3.  4.]\n"
          ],
          "name": "stdout"
        },
        {
          "output_type": "display_data",
          "data": {
            "image/png": "[encoded data removed]",
            "text/plain": [
              "<Figure size 432x288 with 1 Axes>"
            ]
          },
          "metadata": {
            "tags": []
          }
        }
      ]
    },
    {
      "cell_type": "code",
      "metadata": {
        "id": "JFqHZRVkF4bT",
        "outputId": "158aad99-d5d6-4a8c-98a8-28d76f8584d1",
        "colab": {
          "base_uri": "https://localhost:8080/",
          "height": 34
        }
      },
      "source": [
        "print(\"------- Optimal Hyperparameter is 0.1------------------\")"
      ],
      "execution_count": null,
      "outputs": [
        {
          "output_type": "stream",
          "text": [
            "------- Optimal Hyperparameter is 0.1------------------\n"
          ],
          "name": "stdout"
        }
      ]
    },
    {
      "cell_type": "code",
      "metadata": {
        "id": "oLy5Gs_kF4bk",
        "outputId": "e0283082-4886-4d72-ee82-758e09d61863",
        "colab": {
          "base_uri": "https://localhost:8080/",
          "height": 104
        }
      },
      "source": [
        "clf = LogisticRegression(C = 0.1, penalty ='l2')\n",
        "vectorizer =  TfidfVectorizer()\n",
        "vectorizer.fit(X_tr)\n",
        "X_tr_bow = vectorizer.transform(X_tr)\n",
        "clf.fit(X_tr_bow, y_tr)"
      ],
      "execution_count": null,
      "outputs": [
        {
          "output_type": "execute_result",
          "data": {
            "text/plain": [
              "LogisticRegression(C=0.1, class_weight=None, dual=False, fit_intercept=True,\n",
              "                   intercept_scaling=1, l1_ratio=None, max_iter=100,\n",
              "                   multi_class='warn', n_jobs=None, penalty='l2',\n",
              "                   random_state=None, solver='warn', tol=0.0001, verbose=0,\n",
              "                   warm_start=False)"
            ]
          },
          "metadata": {
            "tags": []
          },
          "execution_count": 62
        }
      ]
    },
    {
      "cell_type": "code",
      "metadata": {
        "id": "RMRQf8nvF4b1",
        "outputId": "07b8c8ba-061f-4077-d53a-dda480cf6f24",
        "colab": {
          "base_uri": "https://localhost:8080/",
          "height": 642
        }
      },
      "source": [
        "predict = clf.predict(X_tr_bow)\n",
        "cm = metrics.confusion_matrix(y_tr, predict)\n",
        "print(\"Confusion Matrix on Train \\n\")\n",
        "ConfusionMatrixPrint(cm)\n",
        "test_dtm = vectorizer.transform(X_test)\n",
        "predict = clf.predict(test_dtm)\n",
        "cm = metrics.confusion_matrix(y_test, predict)\n",
        "print(\"Confusion Matrix on Test \\n\")\n",
        "ConfusionMatrixPrint(cm)"
      ],
      "execution_count": null,
      "outputs": [
        {
          "output_type": "stream",
          "text": [
            "Confusion Matrix on Train \n",
            "\n"
          ],
          "name": "stdout"
        },
        {
          "output_type": "display_data",
          "data": {
            "image/png": "[encoded data removed]",
            "text/plain": [
              "<Figure size 432x288 with 2 Axes>"
            ]
          },
          "metadata": {
            "tags": []
          }
        },
        {
          "output_type": "stream",
          "text": [
            "Confusion Matrix on Test \n",
            "\n"
          ],
          "name": "stdout"
        },
        {
          "output_type": "display_data",
          "data": {
            "image/png": "[encoded data removed]",
            "text/plain": [
              "<Figure size 432x288 with 2 Axes>"
            ]
          },
          "metadata": {
            "tags": []
          }
        }
      ]
    },
    {
      "cell_type": "code",
      "metadata": {
        "id": "2F3WaeQvF4cD",
        "outputId": "ea33a877-18a3-46a4-d90f-04af95cb7feb",
        "colab": {
          "base_uri": "https://localhost:8080/",
          "height": 330
        }
      },
      "source": [
        "y_cv_predict = np.array(clf.predict_proba(test_dtm))\n",
        "preds = np.max(y_cv_predict,axis=1)\n",
        "fpr, tpr, threshold = metrics.roc_curve(y_test, preds)\n",
        "roc_auc = metrics.auc(fpr, tpr)\n",
        "print(\"**** TEST AUC *** \", roc_auc)\n",
        "y_tr_predict = np.array(clf.predict_proba(X_tr_bow))\n",
        "y_tr_predict = np.max(y_tr_predict,axis=1)\n",
        "fpr_tr, tpr_tr, threshold_tr = metrics.roc_curve(y_tr, y_tr_predict)\n",
        "#calculating AUC\n",
        "auc = metrics.auc(fpr_tr, tpr_tr)\n",
        "print(\"**** TRAIN AUC ***** \", auc)\n",
        "ROCCurvePrint(fpr,tpr, fpr_tr, tpr_tr)"
      ],
      "execution_count": null,
      "outputs": [
        {
          "output_type": "stream",
          "text": [
            "**** TEST AUC ***  0.9278911063242448\n",
            "**** TRAIN AUC *****  0.9402612051854802\n"
          ],
          "name": "stdout"
        },
        {
          "output_type": "display_data",
          "data": {
            "image/png": "[encoded data removed]",
            "text/plain": [
              "<Figure size 432x288 with 1 Axes>"
            ]
          },
          "metadata": {
            "tags": []
          }
        }
      ]
    },
    {
      "cell_type": "markdown",
      "metadata": {
        "id": "xeeJ8eVvLPpX"
      },
      "source": [
        "###<font color='green'><b>Feature Importance"
      ]
    },
    {
      "cell_type": "markdown",
      "metadata": {
        "id": "Cj9XEmqQLPpY"
      },
      "source": [
        "Top 10 important features of positive class and Negative"
      ]
    },
    {
      "cell_type": "code",
      "metadata": {
        "id": "RG10txygLPpb",
        "outputId": "b445b72e-f779-4072-e5f8-f5b99e63363d",
        "colab": {
          "base_uri": "https://localhost:8080/",
          "height": 191
        }
      },
      "source": [
        "feature_names = vectorizer.get_feature_names()\n",
        "coefs_with_fns = sorted(zip(clf.coef_[0], feature_names))\n",
        "top = zip(coefs_with_fns[:10], coefs_with_fns[:-(10+ 1):-1])\n",
        "for (coef_1, fn_1), (coef_2, fn_2) in top:\n",
        "  print (\"\\t%.4f\\t%-15s\\t\\t%.4f\\t%-15s\"% (coef_1, fn_1, coef_2, fn_2))"
      ],
      "execution_count": null,
      "outputs": [
        {
          "output_type": "stream",
          "text": [
            "\t-5.0301\tnot            \t\t4.7950\tgreat          \n",
            "\t-2.6292\tdisappointed   \t\t3.0897\tbest           \n",
            "\t-2.4317\tmoney          \t\t3.0822\tlove           \n",
            "\t-2.3916\tbad            \t\t2.8754\tgood           \n",
            "\t-2.0014\tworst          \t\t2.6681\tdelicious      \n",
            "\t-1.9517\tawful          \t\t2.1467\tloves          \n",
            "\t-1.9077\thorrible       \t\t2.1349\tperfect        \n",
            "\t-1.8743\taway           \t\t2.0306\tnice           \n",
            "\t-1.7921\twaste          \t\t1.8076\texcellent      \n",
            "\t-1.7879\tterrible       \t\t1.7674\tfavorite       \n"
          ],
          "name": "stdout"
        }
      ]
    },
    {
      "cell_type": "markdown",
      "metadata": {
        "id": "sqYadGOgLPpi"
      },
      "source": [
        "##<font color='green'><b>Logistic Regression with text Encoding as 'AVG W2V'"
      ]
    },
    {
      "cell_type": "code",
      "metadata": {
        "id": "bT4Dm8fiDYNL"
      },
      "source": [
        "# Please write all the code with proper documentation\n",
        "training_words = []\n",
        "for sentance in X_tr:\n",
        "    training_words.append(sentance.split())\n",
        "w2v_model=Word2Vec(training_words,min_count=5,size=50, workers=4)\n"
      ],
      "execution_count": null,
      "outputs": []
    },
    {
      "cell_type": "code",
      "metadata": {
        "id": "IXKXtwiTosQ-"
      },
      "source": [
        "w2v_words = list(w2v_model.wv.vocab)\n",
        "X_tr_vectors = []; # the avg-w2v for each sentence/review is stored in this list\n",
        "# print(w2v_model.wv.vocab)\n",
        "for sent in (training_words): # for each review/sentence\n",
        "    sent_vec = np.zeros(50) # as word vectors are of zero length 50, you might need to change this to 300 if you use google's w2v\n",
        "    cnt_words =0; # num of words with a valid vector in the sentence/review\n",
        "    for word in sent: # for each word in a review/sentence\n",
        "        if word in w2v_words:\n",
        "            vec = w2v_model.wv[word]\n",
        "            sent_vec += vec\n",
        "            cnt_words += 1\n",
        "    if cnt_words != 0:\n",
        "        sent_vec /= cnt_words\n",
        "    X_tr_vectors.append(sent_vec)\n"
      ],
      "execution_count": null,
      "outputs": []
    },
    {
      "cell_type": "code",
      "metadata": {
        "id": "UUpTJHoBwqa5"
      },
      "source": [
        "cv_words = []\n",
        "for sentance in X_cv:\n",
        "    cv_words.append(sentance.split())\n",
        "\n",
        "X_cv_vectors = []; # the avg-w2v for each sentence/review is stored in this list\n",
        "# print(w2v_model.wv.vocab)\n",
        "for sent in cv_words: # for each review/sentence\n",
        "    sent_vec = np.zeros(50) # as word vectors are of zero length 50, you might need to change this to 300 if you use google's w2v\n",
        "    cnt_words =0; # num of words with a valid vector in the sentence/review\n",
        "    for word in sent: # for each word in a review/sentence\n",
        "        if word in w2v_words:\n",
        "            vec = w2v_model.wv[word]\n",
        "            sent_vec += vec\n",
        "            cnt_words += 1\n",
        "    if cnt_words != 0:\n",
        "        sent_vec /= cnt_words\n",
        "    X_cv_vectors.append(sent_vec)\n"
      ],
      "execution_count": null,
      "outputs": []
    },
    {
      "cell_type": "code",
      "metadata": {
        "id": "NzYfoFjexqFZ"
      },
      "source": [
        "test_words = []\n",
        "for sentance in X_test:\n",
        "    test_words.append(sentance.split())\n",
        "\n",
        "X_test_vectors = []; # the avg-w2v for each sentence/review is stored in this list\n",
        "# print(w2v_model.wv.vocab)\n",
        "for sent in test_words: # for each review/sentence\n",
        "    sent_vec = np.zeros(50) # as word vectors are of zero length 50, you might need to change this to 300 if you use google's w2v\n",
        "    cnt_words =0; # num of words with a valid vector in the sentence/review\n",
        "    for word in sent: # for each word in a review/sentence\n",
        "        if word in w2v_words:\n",
        "            vec = w2v_model.wv[word]\n",
        "            sent_vec += vec\n",
        "            cnt_words += 1\n",
        "    if cnt_words != 0:\n",
        "        sent_vec /= cnt_words\n",
        "    X_test_vectors.append(sent_vec)"
      ],
      "execution_count": null,
      "outputs": []
    },
    {
      "cell_type": "code",
      "metadata": {
        "id": "_tWQfUIeG8JG"
      },
      "source": [
        ""
      ],
      "execution_count": null,
      "outputs": []
    },
    {
      "cell_type": "markdown",
      "metadata": {
        "id": "kByBCEA1LPpj"
      },
      "source": [
        "###<font color='green'><b>With L1 regularization"
      ]
    },
    {
      "cell_type": "code",
      "metadata": {
        "id": "740NifOKyBkb"
      },
      "source": [
        "cv_auc = []\n",
        "train_auc = []\n",
        "iterator = []\n",
        "for c in C:\n",
        "  clf = LogisticRegression(C = c, penalty ='l1')\n",
        "  clf.fit(X_tr_vectors,y_tr)\n",
        "  y_cv_predict = np.array(clf.predict_proba(X_cv_vectors))\n",
        "  preds = np.max(y_cv_predict,axis=1)\n",
        "  fpr, tpr, threshold = metrics.roc_curve(y_cv, preds)\n",
        "  cvAUC = metrics.auc(fpr, tpr)\n",
        "  y_tr_predict = np.array(clf.predict_proba(X_tr_vectors))\n",
        "  y_tr_predict = np.max(y_tr_predict,axis=1)\n",
        "  fpr_tr, tpr_tr, threshold_tr = metrics.roc_curve(y_tr, y_tr_predict)\n",
        "  trainAUC = metrics.auc(fpr_tr, tpr_tr)\n",
        "  cv_auc.append(cvAUC)\n",
        "  train_auc.append(trainAUC) \n"
      ],
      "execution_count": null,
      "outputs": []
    },
    {
      "cell_type": "code",
      "metadata": {
        "id": "TUC4d9izyuuO",
        "outputId": "058920d2-c399-4525-8dc2-3a10a713f672",
        "colab": {
          "base_uri": "https://localhost:8080/",
          "height": 300
        }
      },
      "source": [
        "#plotting the graph \n",
        "iterator = np.log10(C)\n",
        "print(iterator)\n",
        "plt.plot(iterator, cv_auc, linewidth=2)\n",
        "plt.plot(iterator, train_auc, linewidth=2)\n",
        "plt.axis('tight')\n",
        "plt.grid()\n",
        "plt.xlabel('Hyper parameter values')\n",
        "plt.ylabel('AUC')\n",
        "plt.legend(['Cross validation AUC', 'Train AUC'], loc='upper right')\n",
        "plt.show()"
      ],
      "execution_count": null,
      "outputs": [
        {
          "output_type": "stream",
          "text": [
            "[-4. -3. -2. -1.  0.  1.  2.  3.  4.]\n"
          ],
          "name": "stdout"
        },
        {
          "output_type": "display_data",
          "data": {
            "image/png": "[encoded data removed]",
            "text/plain": [
              "<Figure size 432x288 with 1 Axes>"
            ]
          },
          "metadata": {
            "tags": []
          }
        }
      ]
    },
    {
      "cell_type": "markdown",
      "metadata": {
        "id": "nqQEFSL1zu5B"
      },
      "source": [
        "Optimal Hyperparameter is C = 0.1"
      ]
    },
    {
      "cell_type": "code",
      "metadata": {
        "id": "IDKUYzPQy0Rv",
        "outputId": "f06eb979-c68c-4328-96d0-26158d5dc5c6",
        "colab": {
          "base_uri": "https://localhost:8080/",
          "height": 104
        }
      },
      "source": [
        "clf = LogisticRegression(C = 0.1, penalty ='l1')\n",
        "clf.fit(X_tr_vectors, y_tr)"
      ],
      "execution_count": null,
      "outputs": [
        {
          "output_type": "execute_result",
          "data": {
            "text/plain": [
              "LogisticRegression(C=0.1, class_weight=None, dual=False, fit_intercept=True,\n",
              "                   intercept_scaling=1, l1_ratio=None, max_iter=100,\n",
              "                   multi_class='warn', n_jobs=None, penalty='l1',\n",
              "                   random_state=None, solver='warn', tol=0.0001, verbose=0,\n",
              "                   warm_start=False)"
            ]
          },
          "metadata": {
            "tags": []
          },
          "execution_count": 72
        }
      ]
    },
    {
      "cell_type": "code",
      "metadata": {
        "id": "U97omkG6y-m7",
        "outputId": "438107bf-7a5d-4bae-99cd-3d6012e7e5aa",
        "colab": {
          "base_uri": "https://localhost:8080/",
          "height": 642
        }
      },
      "source": [
        "predict = clf.predict(X_tr_vectors)\n",
        "cm = metrics.confusion_matrix(y_tr, predict)\n",
        "print(\"Confusion Matrix on Train \\n\")\n",
        "ConfusionMatrixPrint(cm)\n",
        "predict = clf.predict(X_test_vectors)\n",
        "cm = metrics.confusion_matrix(y_test, predict)\n",
        "print(\"Confusion Matrix on Test \\n\")\n",
        "ConfusionMatrixPrint(cm)"
      ],
      "execution_count": null,
      "outputs": [
        {
          "output_type": "stream",
          "text": [
            "Confusion Matrix on Train \n",
            "\n"
          ],
          "name": "stdout"
        },
        {
          "output_type": "display_data",
          "data": {
            "image/png": "[encoded data removed]",
            "text/plain": [
              "<Figure size 432x288 with 2 Axes>"
            ]
          },
          "metadata": {
            "tags": []
          }
        },
        {
          "output_type": "stream",
          "text": [
            "Confusion Matrix on Test \n",
            "\n"
          ],
          "name": "stdout"
        },
        {
          "output_type": "display_data",
          "data": {
            "image/png": "[encoded data removed]",
            "text/plain": [
              "<Figure size 432x288 with 2 Axes>"
            ]
          },
          "metadata": {
            "tags": []
          }
        }
      ]
    },
    {
      "cell_type": "code",
      "metadata": {
        "id": "eg3QD6JDzQ8a",
        "outputId": "113e0ada-fde8-4b5a-cb8f-3fa770a1a4c3",
        "colab": {
          "base_uri": "https://localhost:8080/",
          "height": 330
        }
      },
      "source": [
        "y_cv_predict = np.array(clf.predict_proba(X_test_vectors))\n",
        "preds = np.max(y_cv_predict,axis=1)\n",
        "fpr, tpr, threshold = metrics.roc_curve(y_test, preds)\n",
        "roc_auc = metrics.auc(fpr, tpr)\n",
        "print(\"**** TEST AUC *** \", roc_auc)\n",
        "y_tr_predict = np.array(clf.predict_proba(X_tr_vectors))\n",
        "y_tr_predict = np.max(y_tr_predict,axis=1)\n",
        "fpr_tr, tpr_tr, threshold_tr = metrics.roc_curve(y_tr, y_tr_predict)\n",
        "#calculating AUC\n",
        "auc = metrics.auc(fpr_tr, tpr_tr)\n",
        "print(\"**** TRAIN AUC ***** \", auc)\n",
        "ROCCurvePrint(fpr,tpr, fpr_tr, tpr_tr)"
      ],
      "execution_count": null,
      "outputs": [
        {
          "output_type": "stream",
          "text": [
            "**** TEST AUC ***  0.839059628586426\n",
            "**** TRAIN AUC *****  0.8433877848157381\n"
          ],
          "name": "stdout"
        },
        {
          "output_type": "display_data",
          "data": {
            "image/png": "[encoded data removed]",
            "text/plain": [
              "<Figure size 432x288 with 1 Axes>"
            ]
          },
          "metadata": {
            "tags": []
          }
        }
      ]
    },
    {
      "cell_type": "markdown",
      "metadata": {
        "id": "O_8Gu2SfLPpn"
      },
      "source": [
        "###<font color='green'><b>With L2 regularization"
      ]
    },
    {
      "cell_type": "code",
      "metadata": {
        "id": "flhITIuHr6iJ"
      },
      "source": [
        "cv_auc = []\n",
        "train_auc = []\n",
        "iterator = []\n",
        "for c in C:\n",
        "  clf = LogisticRegression(C = c, penalty ='l2')\n",
        "  clf.fit(X_tr_vectors,y_tr)\n",
        "  y_cv_predict = np.array(clf.predict_proba(X_cv_vectors))\n",
        "  preds = np.max(y_cv_predict,axis=1)\n",
        "  fpr, tpr, threshold = metrics.roc_curve(y_cv, preds)\n",
        "  cvAUC = metrics.auc(fpr, tpr)\n",
        "  y_tr_predict = np.array(clf.predict_proba(X_tr_vectors))\n",
        "  y_tr_predict = np.max(y_tr_predict,axis=1)\n",
        "  fpr_tr, tpr_tr, threshold_tr = metrics.roc_curve(y_tr, y_tr_predict)\n",
        "  trainAUC = metrics.auc(fpr_tr, tpr_tr)\n",
        "  cv_auc.append(cvAUC)\n",
        "  train_auc.append(trainAUC)\n",
        "  \n"
      ],
      "execution_count": null,
      "outputs": []
    },
    {
      "cell_type": "code",
      "metadata": {
        "id": "LOHJQzWcr6ig",
        "outputId": "f8316092-ec3c-4b1b-813c-715c3ea745c6",
        "colab": {
          "base_uri": "https://localhost:8080/",
          "height": 300
        }
      },
      "source": [
        "#plotting the graph \n",
        "iterator = np.log10(C)\n",
        "print(iterator)\n",
        "plt.plot(iterator, cv_auc, linewidth=2)\n",
        "plt.plot(iterator, train_auc, linewidth=2)\n",
        "plt.axis('tight')\n",
        "plt.grid()\n",
        "plt.xlabel('Hyper parameter values')\n",
        "plt.ylabel('AUC')\n",
        "plt.legend(['Cross validation AUC', 'Train AUC'], loc='upper right')\n",
        "plt.show()"
      ],
      "execution_count": null,
      "outputs": [
        {
          "output_type": "stream",
          "text": [
            "[-4. -3. -2. -1.  0.  1.  2.  3.  4.]\n"
          ],
          "name": "stdout"
        },
        {
          "output_type": "display_data",
          "data": {
            "image/png": "[encoded data removed]",
            "text/plain": [
              "<Figure size 432x288 with 1 Axes>"
            ]
          },
          "metadata": {
            "tags": []
          }
        }
      ]
    },
    {
      "cell_type": "markdown",
      "metadata": {
        "id": "Buh6QpGCr6iz"
      },
      "source": [
        "Optimal Hyperparameter is C = 0.01"
      ]
    },
    {
      "cell_type": "code",
      "metadata": {
        "id": "OLYp7gHMr6i5",
        "outputId": "f81cdb2c-0300-4078-b7c4-f3807009e630",
        "colab": {
          "base_uri": "https://localhost:8080/",
          "height": 104
        }
      },
      "source": [
        "clf = LogisticRegression(C = 0.01 , penalty ='l2')\n",
        "clf.fit(X_tr_vectors, y_tr)"
      ],
      "execution_count": null,
      "outputs": [
        {
          "output_type": "execute_result",
          "data": {
            "text/plain": [
              "LogisticRegression(C=0.01, class_weight=None, dual=False, fit_intercept=True,\n",
              "                   intercept_scaling=1, l1_ratio=None, max_iter=100,\n",
              "                   multi_class='warn', n_jobs=None, penalty='l2',\n",
              "                   random_state=None, solver='warn', tol=0.0001, verbose=0,\n",
              "                   warm_start=False)"
            ]
          },
          "metadata": {
            "tags": []
          },
          "execution_count": 78
        }
      ]
    },
    {
      "cell_type": "code",
      "metadata": {
        "id": "-RmPVU03r6jD",
        "outputId": "226fbcd3-2ec7-4cb9-c8e8-fc10f518453c",
        "colab": {
          "base_uri": "https://localhost:8080/",
          "height": 642
        }
      },
      "source": [
        "predict = clf.predict(X_tr_vectors)\n",
        "cm = metrics.confusion_matrix(y_tr, predict)\n",
        "print(\"Confusion Matrix on Train \\n\")\n",
        "ConfusionMatrixPrint(cm)\n",
        "predict = clf.predict(X_test_vectors)\n",
        "cm = metrics.confusion_matrix(y_test, predict)\n",
        "print(\"Confusion Matrix on Test \\n\")\n",
        "ConfusionMatrixPrint(cm)"
      ],
      "execution_count": null,
      "outputs": [
        {
          "output_type": "stream",
          "text": [
            "Confusion Matrix on Train \n",
            "\n"
          ],
          "name": "stdout"
        },
        {
          "output_type": "display_data",
          "data": {
            "image/png": "[encoded data removed]",
            "text/plain": [
              "<Figure size 432x288 with 2 Axes>"
            ]
          },
          "metadata": {
            "tags": []
          }
        },
        {
          "output_type": "stream",
          "text": [
            "Confusion Matrix on Test \n",
            "\n"
          ],
          "name": "stdout"
        },
        {
          "output_type": "display_data",
          "data": {
            "image/png": "[encoded data removed]",
            "text/plain": [
              "<Figure size 432x288 with 2 Axes>"
            ]
          },
          "metadata": {
            "tags": []
          }
        }
      ]
    },
    {
      "cell_type": "code",
      "metadata": {
        "id": "PtBQIk6br6jR",
        "outputId": "a0d0d757-2182-4fa0-9855-2756f2556454",
        "colab": {
          "base_uri": "https://localhost:8080/",
          "height": 330
        }
      },
      "source": [
        "y_cv_predict = np.array(clf.predict_proba(X_test_vectors))\n",
        "preds = np.max(y_cv_predict,axis=1)\n",
        "fpr, tpr, threshold = metrics.roc_curve(y_test, preds)\n",
        "roc_auc = metrics.auc(fpr, tpr)\n",
        "print(\"**** TEST AUC *** \", roc_auc)\n",
        "y_tr_predict = np.array(clf.predict_proba(X_tr_vectors))\n",
        "y_tr_predict = np.max(y_tr_predict,axis=1)\n",
        "fpr_tr, tpr_tr, threshold_tr = metrics.roc_curve(y_tr, y_tr_predict)\n",
        "#calculating AUC\n",
        "auc = metrics.auc(fpr_tr, tpr_tr)\n",
        "print(\"**** TRAIN AUC ***** \", auc)\n",
        "ROCCurvePrint(fpr,tpr, fpr_tr, tpr_tr)"
      ],
      "execution_count": null,
      "outputs": [
        {
          "output_type": "stream",
          "text": [
            "**** TEST AUC ***  0.8559271476097684\n",
            "**** TRAIN AUC *****  0.859980330495259\n"
          ],
          "name": "stdout"
        },
        {
          "output_type": "display_data",
          "data": {
            "image/png": "[encoded data removed]",
            "text/plain": [
              "<Figure size 432x288 with 1 Axes>"
            ]
          },
          "metadata": {
            "tags": []
          }
        }
      ]
    },
    {
      "cell_type": "markdown",
      "metadata": {
        "id": "pdXTwVIPLPpp"
      },
      "source": [
        "##<font color='green'><b>Logistic Regression with text Encoding as 'TFIDF W2V'"
      ]
    },
    {
      "cell_type": "code",
      "metadata": {
        "id": "Z9tFDe5_DYNQ"
      },
      "source": [
        "training_words = []\n",
        "for sentance in X_tr:\n",
        "    training_words.append(sentance.split())\n",
        "w2v_model=Word2Vec(training_words,min_count=5,size=50, workers=4)"
      ],
      "execution_count": null,
      "outputs": []
    },
    {
      "cell_type": "code",
      "metadata": {
        "id": "zjNhUliibjID"
      },
      "source": [
        "w2v_words = list(w2v_model.wv.vocab)"
      ],
      "execution_count": null,
      "outputs": []
    },
    {
      "cell_type": "code",
      "metadata": {
        "id": "9-yN6LFrbutL"
      },
      "source": [
        "model = TfidfVectorizer()\n",
        "tf_idf_matrix = model.fit_transform(X_tr)\n",
        "# we are converting a dictionary with word as a key, and the idf as a value\n",
        "dictionary = dict(zip(model.get_feature_names(), list(model.idf_)))\n"
      ],
      "execution_count": null,
      "outputs": []
    },
    {
      "cell_type": "code",
      "metadata": {
        "id": "lwS67WgZcVqI"
      },
      "source": [
        "tfidf_feat = model.get_feature_names() # tfidf words/col-names"
      ],
      "execution_count": null,
      "outputs": []
    },
    {
      "cell_type": "code",
      "metadata": {
        "id": "uIb0CO5gcb9D",
        "outputId": "30066345-61e3-40de-fc8a-eefc46d5e920",
        "colab": {
          "base_uri": "https://localhost:8080/",
          "height": 34
        }
      },
      "source": [
        "list_of_sentance_tr=[]\n",
        "for sentance in X_tr:\n",
        "    list_of_sentance_tr.append(sentance.split())\n",
        "\n",
        "tfidf_sent_vectors_tr = []; # the tfidf-w2v for each sentence/review is stored in this list\n",
        "row=0;\n",
        "for sent in tqdm(list_of_sentance_tr): # for each review/sentence \n",
        "    sent_vec = np.zeros(50) # as word vectors are of zero length\n",
        "    weight_sum =0; # num of words with a valid vector in the sentence/review\n",
        "    for word in sent: # for each word in a review/sentence\n",
        "        if word in w2v_words and word in tfidf_feat:\n",
        "            vec = w2v_model.wv[word]\n",
        "#             tf_idf = tf_idf_matrix[row, tfidf_feat.index(word)]\n",
        "            # to reduce the computation we are \n",
        "            # dictionary[word] = idf value of word in whole courpus\n",
        "            # sent.count(word) = tf valeus of word in this review\n",
        "            tf_idf = dictionary[word]*(sent.count(word)/len(sent))\n",
        "            sent_vec += (vec * tf_idf)\n",
        "            weight_sum += tf_idf\n",
        "    if weight_sum != 0:\n",
        "        sent_vec /= weight_sum\n",
        "    tfidf_sent_vectors_tr.append(sent_vec)\n",
        "    row += 1"
      ],
      "execution_count": null,
      "outputs": [
        {
          "output_type": "stream",
          "text": [
            "100%|██████████| 43008/43008 [17:21<00:00, 41.31it/s]\n"
          ],
          "name": "stderr"
        }
      ]
    },
    {
      "cell_type": "code",
      "metadata": {
        "id": "36vnhjpMdML_",
        "outputId": "44396feb-9e11-42c5-93c2-8d4cdd36beec",
        "colab": {
          "base_uri": "https://localhost:8080/",
          "height": 34
        }
      },
      "source": [
        "list_of_sentance_cv=[]\n",
        "for sentance in X_cv:\n",
        "    list_of_sentance_cv.append(sentance.split())\n",
        "\n",
        "tfidf_sent_vectors_cv = []; # the tfidf-w2v for each sentence/review is stored in this list\n",
        "row=0;\n",
        "for sent in tqdm(list_of_sentance_cv): # for each review/sentence \n",
        "    sent_vec = np.zeros(50) # as word vectors are of zero length\n",
        "    weight_sum =0; # num of words with a valid vector in the sentence/review\n",
        "    for word in sent: # for each word in a review/sentence\n",
        "        if word in w2v_words and word in tfidf_feat:\n",
        "            vec = w2v_model.wv[word]\n",
        "#             tf_idf = tf_idf_matrix[row, tfidf_feat.index(word)]\n",
        "            # to reduce the computation we are \n",
        "            # dictionary[word] = idf value of word in whole courpus\n",
        "            # sent.count(word) = tf valeus of word in this review\n",
        "            tf_idf = dictionary[word]*(sent.count(word)/len(sent))\n",
        "            sent_vec += (vec * tf_idf)\n",
        "            weight_sum += tf_idf\n",
        "    if weight_sum != 0:\n",
        "        sent_vec /= weight_sum\n",
        "    tfidf_sent_vectors_cv.append(sent_vec)\n",
        "    row += 1"
      ],
      "execution_count": null,
      "outputs": [
        {
          "output_type": "stream",
          "text": [
            "100%|██████████| 18433/18433 [07:19<00:00, 41.90it/s]\n"
          ],
          "name": "stderr"
        }
      ]
    },
    {
      "cell_type": "code",
      "metadata": {
        "id": "WFsKJ5NZdXqo",
        "outputId": "d50538cd-a1b9-4b4c-9c40-2ca450cab891",
        "colab": {
          "base_uri": "https://localhost:8080/",
          "height": 34
        }
      },
      "source": [
        "list_of_sentance_test=[]\n",
        "for sentance in X_test:\n",
        "    list_of_sentance_test.append(sentance.split())\n",
        "\n",
        "tfidf_sent_vectors_test = []; # the tfidf-w2v for each sentence/review is stored in this list\n",
        "row=0;\n",
        "for sent in tqdm(list_of_sentance_test): # for each review/sentence \n",
        "    sent_vec = np.zeros(50) # as word vectors are of zero length\n",
        "    weight_sum =0; # num of words with a valid vector in the sentence/review\n",
        "    for word in sent: # for each word in a review/sentence\n",
        "        if word in w2v_words and word in tfidf_feat:\n",
        "            vec = w2v_model.wv[word]\n",
        "#             tf_idf = tf_idf_matrix[row, tfidf_feat.index(word)]\n",
        "            # to reduce the computation we are \n",
        "            # dictionary[word] = idf value of word in whole courpus\n",
        "            # sent.count(word) = tf valeus of word in this review\n",
        "            tf_idf = dictionary[word]*(sent.count(word)/len(sent))\n",
        "            sent_vec += (vec * tf_idf)\n",
        "            weight_sum += tf_idf\n",
        "    if weight_sum != 0:\n",
        "        sent_vec /= weight_sum\n",
        "    tfidf_sent_vectors_test.append(sent_vec)\n",
        "    row += 1"
      ],
      "execution_count": null,
      "outputs": [
        {
          "output_type": "stream",
          "text": [
            "100%|██████████| 26332/26332 [10:23<00:00, 42.25it/s]\n"
          ],
          "name": "stderr"
        }
      ]
    },
    {
      "cell_type": "markdown",
      "metadata": {
        "id": "WP9NjwNSLPpp"
      },
      "source": [
        "###<font color='green'><b>With L1 regularization"
      ]
    },
    {
      "cell_type": "code",
      "metadata": {
        "id": "vbP3Ln1ludLH"
      },
      "source": [
        "cv_auc = []\n",
        "train_auc = []\n",
        "iterator = []\n",
        "for c in C:\n",
        "  clf = LogisticRegression(C = c, penalty ='l1')\n",
        "  clf.fit(tfidf_sent_vectors_tr,y_tr)\n",
        "  y_cv_predict = np.array(clf.predict_proba(tfidf_sent_vectors_cv))\n",
        "  preds = np.max(y_cv_predict,axis=1)\n",
        "  fpr, tpr, threshold = metrics.roc_curve(y_cv, preds)\n",
        "  cvAUC = metrics.auc(fpr, tpr)\n",
        "  y_tr_predict = np.array(clf.predict_proba(tfidf_sent_vectors_tr))\n",
        "  y_tr_predict = np.max(y_tr_predict,axis=1)\n",
        "  fpr_tr, tpr_tr, threshold_tr = metrics.roc_curve(y_tr, y_tr_predict)\n",
        "  trainAUC = metrics.auc(fpr_tr, tpr_tr)\n",
        "  cv_auc.append(cvAUC)\n",
        "  train_auc.append(trainAUC) \n"
      ],
      "execution_count": null,
      "outputs": []
    },
    {
      "cell_type": "code",
      "metadata": {
        "id": "4qVVhtskudLT",
        "outputId": "c56ca7b5-3106-450e-b610-cc8d9c4c33d8",
        "colab": {
          "base_uri": "https://localhost:8080/",
          "height": 300
        }
      },
      "source": [
        "#plotting the graph \n",
        "iterator = np.log10(C)\n",
        "print(iterator)\n",
        "plt.plot(iterator, cv_auc, linewidth=2)\n",
        "plt.plot(iterator, train_auc, linewidth=2)\n",
        "plt.axis('tight')\n",
        "plt.grid()\n",
        "plt.xlabel('Hyper parameter values')\n",
        "plt.ylabel('AUC')\n",
        "plt.legend(['Cross validation AUC', 'Train AUC'], loc='upper right')\n",
        "plt.show()"
      ],
      "execution_count": null,
      "outputs": [
        {
          "output_type": "stream",
          "text": [
            "[-4. -3. -2. -1.  0.  1.  2.  3.  4.]\n"
          ],
          "name": "stdout"
        },
        {
          "output_type": "display_data",
          "data": {
            "image/png": "[encoded data removed]",
            "text/plain": [
              "<Figure size 432x288 with 1 Axes>"
            ]
          },
          "metadata": {
            "tags": []
          }
        }
      ]
    },
    {
      "cell_type": "markdown",
      "metadata": {
        "id": "ODILal5gudLi"
      },
      "source": [
        "Optimal Hyperparameter is C = 0.01"
      ]
    },
    {
      "cell_type": "code",
      "metadata": {
        "id": "UzXNTHnEudLm",
        "outputId": "8ad0910e-42ae-4d8d-b6a4-5ac739b04441",
        "colab": {
          "base_uri": "https://localhost:8080/",
          "height": 104
        }
      },
      "source": [
        "clf = LogisticRegression(C = 0.01, penalty ='l1')\n",
        "clf.fit(tfidf_sent_vectors_tr, y_tr)"
      ],
      "execution_count": null,
      "outputs": [
        {
          "output_type": "execute_result",
          "data": {
            "text/plain": [
              "LogisticRegression(C=0.01, class_weight=None, dual=False, fit_intercept=True,\n",
              "                   intercept_scaling=1, l1_ratio=None, max_iter=100,\n",
              "                   multi_class='warn', n_jobs=None, penalty='l1',\n",
              "                   random_state=None, solver='warn', tol=0.0001, verbose=0,\n",
              "                   warm_start=False)"
            ]
          },
          "metadata": {
            "tags": []
          },
          "execution_count": 90
        }
      ]
    },
    {
      "cell_type": "code",
      "metadata": {
        "id": "875F9AzkudLu",
        "outputId": "c3706fe6-ef3f-4d92-8ed0-e2efd247a2c6",
        "colab": {
          "base_uri": "https://localhost:8080/",
          "height": 642
        }
      },
      "source": [
        "predict = clf.predict(tfidf_sent_vectors_tr)\n",
        "cm = metrics.confusion_matrix(y_tr, predict)\n",
        "print(\"Confusion Matrix on Train \\n\")\n",
        "ConfusionMatrixPrint(cm)\n",
        "predict = clf.predict(tfidf_sent_vectors_test)\n",
        "cm = metrics.confusion_matrix(y_test, predict)\n",
        "print(\"Confusion Matrix on Test \\n\")\n",
        "ConfusionMatrixPrint(cm)"
      ],
      "execution_count": null,
      "outputs": [
        {
          "output_type": "stream",
          "text": [
            "Confusion Matrix on Train \n",
            "\n"
          ],
          "name": "stdout"
        },
        {
          "output_type": "display_data",
          "data": {
            "image/png": "[encoded data removed]",
            "text/plain": [
              "<Figure size 432x288 with 2 Axes>"
            ]
          },
          "metadata": {
            "tags": []
          }
        },
        {
          "output_type": "stream",
          "text": [
            "Confusion Matrix on Test \n",
            "\n"
          ],
          "name": "stdout"
        },
        {
          "output_type": "display_data",
          "data": {
            "image/png": "[encoded data removed]",
            "text/plain": [
              "<Figure size 432x288 with 2 Axes>"
            ]
          },
          "metadata": {
            "tags": []
          }
        }
      ]
    },
    {
      "cell_type": "code",
      "metadata": {
        "id": "x9NNLbYjudL7",
        "outputId": "88e4f1fd-dab3-4ff6-8297-b47d5ee76c43",
        "colab": {
          "base_uri": "https://localhost:8080/",
          "height": 330
        }
      },
      "source": [
        "y_cv_predict = np.array(clf.predict_proba(tfidf_sent_vectors_test))\n",
        "preds = np.max(y_cv_predict,axis=1)\n",
        "fpr, tpr, threshold = metrics.roc_curve(y_test, preds)\n",
        "roc_auc = metrics.auc(fpr, tpr)\n",
        "print(\"**** TEST AUC *** \", roc_auc)\n",
        "y_tr_predict = np.array(clf.predict_proba(tfidf_sent_vectors_tr))\n",
        "y_tr_predict = np.max(y_tr_predict,axis=1)\n",
        "fpr_tr, tpr_tr, threshold_tr = metrics.roc_curve(y_tr, y_tr_predict)\n",
        "#calculating AUC\n",
        "auc = metrics.auc(fpr_tr, tpr_tr)\n",
        "print(\"**** TRAIN AUC ***** \", auc)\n",
        "ROCCurvePrint(fpr,tpr, fpr_tr, tpr_tr)"
      ],
      "execution_count": null,
      "outputs": [
        {
          "output_type": "stream",
          "text": [
            "**** TEST AUC ***  0.8412246647909547\n",
            "**** TRAIN AUC *****  0.8412993148259267\n"
          ],
          "name": "stdout"
        },
        {
          "output_type": "display_data",
          "data": {
            "image/png": "[encoded data removed]",
            "text/plain": [
              "<Figure size 432x288 with 1 Axes>"
            ]
          },
          "metadata": {
            "tags": []
          }
        }
      ]
    },
    {
      "cell_type": "markdown",
      "metadata": {
        "id": "ynUK2tYDLPps"
      },
      "source": [
        "###<font color='green'><b>With L2 regularization"
      ]
    },
    {
      "cell_type": "code",
      "metadata": {
        "id": "PQGeFbToveYL"
      },
      "source": [
        "cv_auc = []\n",
        "train_auc = []\n",
        "iterator = []\n",
        "for c in C:\n",
        "  clf = LogisticRegression(C = c, penalty ='l2')\n",
        "  clf.fit(tfidf_sent_vectors_tr,y_tr)\n",
        "  y_cv_predict = np.array(clf.predict_proba(tfidf_sent_vectors_cv))\n",
        "  preds = np.max(y_cv_predict,axis=1)\n",
        "  fpr, tpr, threshold = metrics.roc_curve(y_cv, preds)\n",
        "  cvAUC = metrics.auc(fpr, tpr)\n",
        "  y_tr_predict = np.array(clf.predict_proba(tfidf_sent_vectors_tr))\n",
        "  y_tr_predict = np.max(y_tr_predict,axis=1)\n",
        "  fpr_tr, tpr_tr, threshold_tr = metrics.roc_curve(y_tr, y_tr_predict)\n",
        "  trainAUC = metrics.auc(fpr_tr, tpr_tr)\n",
        "  cv_auc.append(cvAUC)\n",
        "  train_auc.append(trainAUC) \n"
      ],
      "execution_count": null,
      "outputs": []
    },
    {
      "cell_type": "code",
      "metadata": {
        "id": "rErUSepeveY1",
        "outputId": "de104c4f-6cd3-487e-c421-de379fa61628",
        "colab": {
          "base_uri": "https://localhost:8080/",
          "height": 300
        }
      },
      "source": [
        "#plotting the graph \n",
        "iterator = np.log10(C)\n",
        "print(iterator)\n",
        "plt.plot(iterator, cv_auc, linewidth=2)\n",
        "plt.plot(iterator, train_auc, linewidth=2)\n",
        "plt.axis('tight')\n",
        "plt.grid()\n",
        "plt.xlabel('Hyper parameter values')\n",
        "plt.ylabel('AUC')\n",
        "plt.legend(['Cross validation AUC', 'Train AUC'], loc='upper right')\n",
        "plt.show()"
      ],
      "execution_count": null,
      "outputs": [
        {
          "output_type": "stream",
          "text": [
            "[-4. -3. -2. -1.  0.  1.  2.  3.  4.]\n"
          ],
          "name": "stdout"
        },
        {
          "output_type": "display_data",
          "data": {
            "image/png": "[encoded data removed]",
            "text/plain": [
              "<Figure size 432x288 with 1 Axes>"
            ]
          },
          "metadata": {
            "tags": []
          }
        }
      ]
    },
    {
      "cell_type": "markdown",
      "metadata": {
        "id": "NTF1ogzWveZM"
      },
      "source": [
        "Optimal Hyperparameter is C = 0.01"
      ]
    },
    {
      "cell_type": "code",
      "metadata": {
        "id": "-ZcMfcQWveZQ",
        "outputId": "2739e7cc-0cab-497f-de88-90e82acc7bef",
        "colab": {
          "base_uri": "https://localhost:8080/",
          "height": 104
        }
      },
      "source": [
        "clf = LogisticRegression(C = 0.01, penalty ='l2')\n",
        "clf.fit(tfidf_sent_vectors_tr, y_tr)"
      ],
      "execution_count": null,
      "outputs": [
        {
          "output_type": "execute_result",
          "data": {
            "text/plain": [
              "LogisticRegression(C=0.01, class_weight=None, dual=False, fit_intercept=True,\n",
              "                   intercept_scaling=1, l1_ratio=None, max_iter=100,\n",
              "                   multi_class='warn', n_jobs=None, penalty='l2',\n",
              "                   random_state=None, solver='warn', tol=0.0001, verbose=0,\n",
              "                   warm_start=False)"
            ]
          },
          "metadata": {
            "tags": []
          },
          "execution_count": 96
        }
      ]
    },
    {
      "cell_type": "code",
      "metadata": {
        "id": "kvd1pDPMveZd",
        "outputId": "01619987-b44d-49da-8700-cb52d1919081",
        "colab": {
          "base_uri": "https://localhost:8080/",
          "height": 642
        }
      },
      "source": [
        "predict = clf.predict(tfidf_sent_vectors_tr)\n",
        "cm = metrics.confusion_matrix(y_tr, predict)\n",
        "print(\"Confusion Matrix on Train \\n\")\n",
        "ConfusionMatrixPrint(cm)\n",
        "predict = clf.predict(tfidf_sent_vectors_test)\n",
        "cm = metrics.confusion_matrix(y_test, predict)\n",
        "print(\"Confusion Matrix on Test \\n\")\n",
        "ConfusionMatrixPrint(cm)"
      ],
      "execution_count": null,
      "outputs": [
        {
          "output_type": "stream",
          "text": [
            "Confusion Matrix on Train \n",
            "\n"
          ],
          "name": "stdout"
        },
        {
          "output_type": "display_data",
          "data": {
            "image/png": "[encoded data removed]",
            "text/plain": [
              "<Figure size 432x288 with 2 Axes>"
            ]
          },
          "metadata": {
            "tags": []
          }
        },
        {
          "output_type": "stream",
          "text": [
            "Confusion Matrix on Test \n",
            "\n"
          ],
          "name": "stdout"
        },
        {
          "output_type": "display_data",
          "data": {
            "image/png": "[encoded data removed]",
            "text/plain": [
              "<Figure size 432x288 with 2 Axes>"
            ]
          },
          "metadata": {
            "tags": []
          }
        }
      ]
    },
    {
      "cell_type": "code",
      "metadata": {
        "id": "CT01S8CfveZo",
        "outputId": "92b2d582-457f-433a-c7c4-dbb48bf90e64",
        "colab": {
          "base_uri": "https://localhost:8080/",
          "height": 330
        }
      },
      "source": [
        "y_cv_predict = np.array(clf.predict_proba(tfidf_sent_vectors_test))\n",
        "preds = np.max(y_cv_predict,axis=1)\n",
        "fpr, tpr, threshold = metrics.roc_curve(y_test, preds)\n",
        "roc_auc = metrics.auc(fpr, tpr)\n",
        "print(\"**** TEST AUC *** \", roc_auc)\n",
        "y_tr_predict = np.array(clf.predict_proba(tfidf_sent_vectors_tr))\n",
        "y_tr_predict = np.max(y_tr_predict,axis=1)\n",
        "fpr_tr, tpr_tr, threshold_tr = metrics.roc_curve(y_tr, y_tr_predict)\n",
        "#calculating AUC\n",
        "auc = metrics.auc(fpr_tr, tpr_tr)\n",
        "print(\"**** TRAIN AUC ***** \", auc)\n",
        "ROCCurvePrint(fpr,tpr, fpr_tr, tpr_tr)"
      ],
      "execution_count": null,
      "outputs": [
        {
          "output_type": "stream",
          "text": [
            "**** TEST AUC ***  0.8426371199226431\n",
            "**** TRAIN AUC *****  0.844331333297149\n"
          ],
          "name": "stdout"
        },
        {
          "output_type": "display_data",
          "data": {
            "image/png": "[encoded data removed]",
            "text/plain": [
              "<Figure size 432x288 with 1 Axes>"
            ]
          },
          "metadata": {
            "tags": []
          }
        }
      ]
    },
    {
      "cell_type": "markdown",
      "metadata": {
        "id": "nOvsBNf2LPpv"
      },
      "source": [
        "##<font color='green'><b>RESULTS"
      ]
    },
    {
      "cell_type": "code",
      "metadata": {
        "id": "T7VxD0q2LPpw",
        "outputId": "70c0e401-310c-4bce-d332-1c804a0cab6f",
        "colab": {
          "base_uri": "https://localhost:8080/",
          "height": 225
        }
      },
      "source": [
        "x = PrettyTable()\n",
        "x.add_column(\"S.No\",[1,2,3,4,5,6,7,8])\n",
        "x.add_column(\"Model Description\",[\"BoW L1\", \"BoW L2\", \"TF-IDF L1\", \"TF-IDF L2\", \\\n",
        "                                  \"Avg W2Vec L1\", \"Avg W2Vec L2\", \"TF-IDF W2Vec L1\",\\\n",
        "                                  \"TF-IDF W2Vec L2\"])\n",
        "x.add_column(\"Hyper-parameter value\",[0.1,0.01,0.1,0.1,0.1,0.01,0.01,0.01])\n",
        "x.add_column(\"Test AUC\",[0.801,0.857,0.856,0.927,0.839,0.855,0.841,0.842])\n",
        "print(x)"
      ],
      "execution_count": null,
      "outputs": [
        {
          "output_type": "stream",
          "text": [
            "+------+-------------------+-----------------------+----------+\n",
            "| S.No | Model Description | Hyper-parameter value | Test AUC |\n",
            "+------+-------------------+-----------------------+----------+\n",
            "|  1   |       BoW L1      |          0.1          |  0.801   |\n",
            "|  2   |       BoW L2      |          0.01         |  0.857   |\n",
            "|  3   |     TF-IDF L1     |          0.1          |  0.856   |\n",
            "|  4   |     TF-IDF L2     |          0.1          |  0.927   |\n",
            "|  5   |    Avg W2Vec L1   |          0.1          |  0.839   |\n",
            "|  6   |    Avg W2Vec L2   |          0.01         |  0.855   |\n",
            "|  7   |  TF-IDF W2Vec L1  |          0.01         |  0.841   |\n",
            "|  8   |  TF-IDF W2Vec L2  |          0.01         |  0.842   |\n",
            "+------+-------------------+-----------------------+----------+\n"
          ],
          "name": "stdout"
        }
      ]
    }
  ]
}